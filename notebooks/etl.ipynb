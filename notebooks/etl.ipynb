{
 "cells": [
  {
   "cell_type": "markdown",
   "metadata": {},
   "source": [
    "## ETL Banxico"
   ]
  },
  {
   "cell_type": "code",
   "execution_count": 1,
   "metadata": {},
   "outputs": [],
   "source": [
    "import os\n",
    "import requests\n",
    "import pandas as pd\n",
    "from dotenv import load_dotenv\n",
    "from datetime import datetime\n",
    "from dateutil.relativedelta import relativedelta\n",
    "import boto3\n",
    "import json"
   ]
  },
  {
   "cell_type": "code",
   "execution_count": 2,
   "metadata": {},
   "outputs": [
    {
     "name": "stdout",
     "output_type": "stream",
     "text": [
      "✅ Token de Banxico cargado correctamente.\n"
     ]
    }
   ],
   "source": [
    "# 📌 Cargar variables de entorno\n",
    "load_dotenv()\n",
    "\n",
    "# 📌 Obtener los tokens desde .env\n",
    "BANXICO_TOKEN = os.getenv(\"BANXICO_TOKEN\")\n",
    "AWS_ACCESS_KEY = os.getenv(\"AWS_ACCESS_KEY\")\n",
    "AWS_SECRET_KEY = os.getenv(\"AWS_SECRET_KEY\")\n",
    "S3_BUCKET_NAME = os.getenv(\"S3_BUCKET_NAME\")\n",
    "\n",
    "if not BANXICO_TOKEN:\n",
    "    raise ValueError(\"❌ Error: BANXICO_TOKEN no encontrado en .env\")\n",
    "\n",
    "print(\"✅ Token de Banxico cargado correctamente.\")\n",
    "\n",
    "# 📌 Configurar fechas desde 2020 hasta hoy\n",
    "initial_date = \"2020-01-01\"\n",
    "final_date = datetime.today().strftime(\"%Y-%m-%d\")\n",
    "\n",
    "# 📌 Configurar cliente de Amazon S3\n",
    "s3_client = boto3.client(\n",
    "    \"s3\",\n",
    "    aws_access_key_id=AWS_ACCESS_KEY,\n",
    "    aws_secret_access_key=AWS_SECRET_KEY,\n",
    ")\n"
   ]
  },
  {
   "cell_type": "code",
   "execution_count": 3,
   "metadata": {},
   "outputs": [],
   "source": [
    "def extract_banxico_data(serie_id, initial_date, final_date):\n",
    "    \"\"\"\n",
    "    Extrae datos de la API de Banxico y los devuelve en un DataFrame.\n",
    "    \"\"\"\n",
    "    url = f\"https://www.banxico.org.mx/SieAPIRest/service/v1/series/{serie_id}/datos/{initial_date}/{final_date}?token={BANXICO_TOKEN}\"\n",
    "    response = requests.get(url)\n",
    "\n",
    "    if response.status_code != 200:\n",
    "        print(f\"❌ Error {response.status_code}: {response.text}\")\n",
    "        return None\n",
    "\n",
    "    data = response.json()\n",
    "    \n",
    "    if \"bmx\" not in data or \"series\" not in data[\"bmx\"] or not data[\"bmx\"][\"series\"]:\n",
    "        print(\"⚠️ No se encontraron datos en la respuesta de Banxico.\")\n",
    "        return None\n",
    "\n",
    "    series_data = data[\"bmx\"][\"series\"][0][\"datos\"]\n",
    "\n",
    "    if not series_data:\n",
    "        print(\"⚠️ No hay datos disponibles en este rango de fechas.\")\n",
    "        return None\n",
    "\n",
    "    # 📌 Convertir datos a DataFrame\n",
    "    df = pd.DataFrame(series_data)\n",
    "    df.columns = [\"timestamp\", \"value\"]\n",
    "\n",
    "    # 📌 Convertir fechas correctamente\n",
    "    df[\"timestamp\"] = pd.to_datetime(df[\"timestamp\"], format=\"%d/%m/%Y\", dayfirst=True)\n",
    "\n",
    "    # 📌 Convertir valores a numérico\n",
    "    df[\"value\"] = pd.to_numeric(df[\"value\"], errors=\"coerce\")\n",
    "\n",
    "    return df\n"
   ]
  },
  {
   "cell_type": "code",
   "execution_count": 4,
   "metadata": {},
   "outputs": [
    {
     "name": "stdout",
     "output_type": "stream",
     "text": [
      "✅ Datos guardados localmente en CSV.\n"
     ]
    }
   ],
   "source": [
    "# 📌 Extraer Tipo de Cambio\n",
    "df_tipo_cambio = extract_banxico_data(\"SF43718\", initial_date, final_date)\n",
    "df_tipo_cambio.to_csv(\"tipo_de_cambio.csv\", index=False)\n",
    "\n",
    "# 📌 Extraer Tasa de Interés\n",
    "df_tasa_interes = extract_banxico_data(\"SF282\", initial_date, final_date)\n",
    "df_tasa_interes.to_csv(\"tasa_de_interes.csv\", index=False)\n",
    "\n",
    "# 📌 Extraer INPC desde Banxico\n",
    "df_inpc = extract_banxico_data(\"SP1\", initial_date, final_date)\n",
    "df_inpc.to_csv(\"inpc.csv\", index=False)\n",
    "\n",
    "print(\"✅ Datos guardados localmente en CSV.\")\n"
   ]
  },
  {
   "cell_type": "code",
   "execution_count": 8,
   "metadata": {},
   "outputs": [
    {
     "name": "stdout",
     "output_type": "stream",
     "text": [
      "✅ Bucket encontrado: arquitectura-athena-queries-sofia\n",
      "✅ Bucket encontrado: banxico-hw\n",
      "✅ Bucket encontrado: itam-analytics-sofia\n",
      "✅ Bucket encontrado: sofia-temp-flights\n",
      "📂 Archivo en S3: raw/ - Tamaño: 0 bytes\n",
      "📂 Archivo en S3: raw/inpc.csv - Tamaño: 1190 bytes\n",
      "📂 Archivo en S3: raw/tasa_de_interes.csv - Tamaño: 1029 bytes\n",
      "📂 Archivo en S3: raw/tipo_de_cambio.csv - Tamaño: 24694 bytes\n"
     ]
    }
   ],
   "source": [
    "# Toma\"default\"\n",
    "s3_client = boto3.client(\"s3\")\n",
    "\n",
    "# Probar conexión\n",
    "response = s3_client.list_buckets()\n",
    "for bucket in response[\"Buckets\"]:\n",
    "    print(f\"✅ Bucket encontrado: {bucket['Name']}\")\n",
    "# 📌 Probar conexión\n",
    "try:\n",
    "    response = s3_client.list_objects_v2(Bucket=\"banxico-hw\", Prefix=\"raw/\")\n",
    "    for obj in response.get(\"Contents\", []):\n",
    "        print(f\"📂 Archivo en S3: {obj['Key']} - Tamaño: {obj['Size']} bytes\")\n",
    "except Exception as e:\n",
    "    print(f\"❌ Error al conectar con S3: {e}\")\n"
   ]
  },
  {
   "cell_type": "code",
   "execution_count": 9,
   "metadata": {},
   "outputs": [
    {
     "name": "stdout",
     "output_type": "stream",
     "text": [
      "✅ Archivo tipo_de_cambio.csv subido a S3 en raw/tipo_de_cambio.csv\n",
      "✅ Archivo tasa_de_interes.csv subido a S3 en raw/tasa_de_interes.csv\n",
      "✅ Archivo inpc.csv subido a S3 en raw/inpc.csv\n",
      "✅ Todos los archivos han sido subidos a S3 en la carpeta 'raw/'.\n"
     ]
    }
   ],
   "source": [
    "def upload_to_s3(file_name, bucket, folder):\n",
    "    \"\"\"\n",
    "    Sube un archivo local a Amazon S3 en la carpeta especificada.\n",
    "    \"\"\"\n",
    "    object_name = f\"{folder}/{file_name}\"\n",
    "    try:\n",
    "        s3_client.upload_file(file_name, bucket, object_name)\n",
    "        print(f\"✅ Archivo {file_name} subido a S3 en {object_name}\")\n",
    "    except Exception as e:\n",
    "        print(f\"❌ Error al subir {file_name}: {e}\")\n",
    "\n",
    "# 📌 Subir los archivos a S3\n",
    "upload_to_s3(\"tipo_de_cambio.csv\", \"banxico-hw\", \"raw\")\n",
    "upload_to_s3(\"tasa_de_interes.csv\", \"banxico-hw\", \"raw\")\n",
    "upload_to_s3(\"inpc.csv\", \"banxico-hw\", \"raw\")\n",
    "\n",
    "print(\"✅ Todos los archivos han sido subidos a S3 en la carpeta 'raw/'.\")\n"
   ]
  },
  {
   "cell_type": "markdown",
   "metadata": {},
   "source": [
    "---"
   ]
  },
  {
   "cell_type": "markdown",
   "metadata": {},
   "source": [
    "### Transforming and cleaning raw data"
   ]
  },
  {
   "cell_type": "code",
   "execution_count": null,
   "metadata": {},
   "outputs": [],
   "source": [
    "# 📌 Convertir Tipo de Cambio a Mensual (Promedio por mes)\n",
    "df_exchange[\"month\"] = df_exchange[\"date\"].dt.to_period(\"M\")  # Convertir a periodo mensual\n",
    "df_exchange_monthly = df_exchange.groupby(\"month\")[\"value\"].mean().reset_index()\n",
    "\n",
    "# 📌 Convertir de Periodo a Timestamp para alinearlo con las otras series\n",
    "df_exchange_monthly[\"date\"] = df_exchange_monthly[\"month\"].dt.to_timestamp()\n",
    "df_exchange_monthly.drop(columns=[\"month\"], inplace=True)\n",
    "\n",
    "# 📌 Guardar los datos convertidos\n",
    "df_exchange_monthly.to_csv(\"tipo_de_cambio_mensual.csv\", index=False)\n",
    "print(\"✅ Datos de Tipo de Cambio convertidos a frecuencia mensual guardados en tipo_de_cambio_mensual.csv\")\n"
   ]
  },
  {
   "cell_type": "code",
   "execution_count": null,
   "metadata": {},
   "outputs": [],
   "source": [
    "# 📌 Definir la fecha de fin común\n",
    "fecha_fin = \"2025-02-01\"\n",
    "\n",
    "# 📌 Filtrar los DataFrames para asegurarnos de que terminan en la misma fecha\n",
    "df_inpc = df_inpc[df_inpc[\"date\"] <= fecha_fin]\n",
    "df_interest = df_interest[df_interest[\"date\"] <= fecha_fin]\n",
    "df_exchange_monthly = df_exchange_monthly[df_exchange_monthly[\"date\"] <= fecha_fin]\n",
    "\n",
    "# 📌 Guardar los archivos corregidos\n",
    "df_inpc.to_csv(\"inpc_corr.csv\", index=False)\n",
    "df_interest.to_csv(\"tasa_de_interes_corr.csv\", index=False)\n",
    "df_exchange_monthly.to_csv(\"tipo_de_cambio_corr.csv\", index=False)\n",
    "\n",
    "print(\"✅ Todas las series han sido recortadas a 2025-02-01.\")\n"
   ]
  },
  {
   "cell_type": "code",
   "execution_count": null,
   "metadata": {},
   "outputs": [],
   "source": [
    "# 📌 Merge de todas las series usando \"date\" como clave\n",
    "df_final = df_inpc.merge(df_interest, on=\"date\", how=\"outer\", suffixes=(\"_inpc\", \"_tasa\"))\n",
    "df_final = df_final.merge(df_exchange_monthly, on=\"date\", how=\"outer\")\n",
    "\n",
    "# 📌 Renombrar columnas para claridad\n",
    "df_final.rename(columns={\"value_inpc\": \"inpc\", \"value_tasa\": \"tasa_de_interes\", \"value\": \"tipo_de_cambio\"}, inplace=True)\n",
    "\n",
    "# 📌 Verificar los primeros datos\n",
    "print(\"📊 DataFrame Final con Todas las Series:\")\n",
    "print(df_final.head())\n",
    "\n",
    "# 📌 Guardar el DataFrame Final\n",
    "df_final.to_csv(\"datos_completos.csv\", index=False)\n",
    "print(\"✅ DataFrame Final guardado en datos_completos.csv\")\n"
   ]
  },
  {
   "cell_type": "markdown",
   "metadata": {},
   "source": [
    "#### INPC - inflación anualizada"
   ]
  },
  {
   "cell_type": "code",
   "execution_count": null,
   "metadata": {},
   "outputs": [],
   "source": [
    "# 📌 Cargar los datos completos\n",
    "df = pd.read_csv(\"datos_completos.csv\", parse_dates=[\"date\"])\n",
    "\n",
    "# 📌 Ordenar por fecha (por si acaso)\n",
    "df = df.sort_values(by=\"date\")\n",
    "\n",
    "# 📌 Ver las primeras filas antes de calcular la inflación\n",
    "print(\"📊 Datos antes de calcular la inflación:\")\n",
    "print(df.head())\n"
   ]
  },
  {
   "cell_type": "code",
   "execution_count": null,
   "metadata": {},
   "outputs": [],
   "source": [
    "# 📌 Calcular el INPC rezagado 12 meses\n",
    "df[\"inpc_lag_12\"] = df[\"inpc\"].shift(12)\n",
    "\n",
    "# 📌 Calcular la inflación anualizada\n",
    "df[\"inflacion\"] = 100 * (df[\"inpc\"] / df[\"inpc_lag_12\"] - 1)\n",
    "\n",
    "# 📌 Ver los primeros valores calculados\n",
    "print(\"\\n📊 Datos después de calcular la inflación:\")\n",
    "print(df[[\"date\", \"inpc\", \"inpc_lag_12\", \"inflacion\"]].head(15))\n"
   ]
  },
  {
   "cell_type": "code",
   "execution_count": null,
   "metadata": {},
   "outputs": [],
   "source": [
    "# 📌 Guardar los datos con la inflación calculada\n",
    "df.to_csv(\"datos_con_inflacion.csv\", index=False)\n",
    "print(\"✅ Datos con inflación guardados en datos_con_inflacion.csv\")\n"
   ]
  },
  {
   "cell_type": "markdown",
   "metadata": {},
   "source": [
    "---"
   ]
  },
  {
   "cell_type": "markdown",
   "metadata": {},
   "source": [
    "## ETL INEGI -- WIP"
   ]
  },
  {
   "cell_type": "code",
   "execution_count": null,
   "metadata": {},
   "outputs": [],
   "source": [
    "# Cargar las variables de entorno desde .env\n",
    "load_dotenv()\n",
    "\n",
    "# Obtener el token\n",
    "INEGI_TOKEN = os.getenv(\"INEGI_TOKEN\")\n",
    "\n",
    "# Verificar que se cargó correctamente\n",
    "if not INEGI_TOKEN:\n",
    "    raise ValueError(\"❌ Error: INEGI_TOKEN no encontrado en .env\")\n",
    "\n",
    "print(\"✅ Token de INEGI cargado correctamente:\", INEGI_TOKEN[:10] + \"...\")\n"
   ]
  },
  {
   "cell_type": "code",
   "execution_count": null,
   "metadata": {},
   "outputs": [],
   "source": [
    "# ID del INPC Mensual en INEGI\n",
    "serie_id = \"539261\"\n",
    "\n",
    "# Construcción de la URL\n",
    "url = f\"https://www.inegi.org.mx/app/api/indicadores/desarrolladores/jsonxml/INDICATOR/{serie_id}/es/0700/true/BISE/2.0/{INEGI_TOKEN}?type=json\"\n",
    "\n",
    "# Hacer la solicitud a la API\n",
    "response = requests.get(url)\n",
    "\n",
    "# Verificar la respuesta\n",
    "if response.status_code == 200:\n",
    "    data = response.json()\n",
    "    print(\"📡 Código de respuesta:\", response.status_code)\n",
    "    print(\"🔍 Respuesta de la API:\")\n",
    "    print(json.dumps(data, indent=4)[:1000])  # Muestra los primeros 1000 caracteres\n",
    "else:\n",
    "    print(\"❌ Error en la solicitud:\", response.text)\n"
   ]
  },
  {
   "cell_type": "code",
   "execution_count": null,
   "metadata": {},
   "outputs": [],
   "source": [
    "import requests\n",
    "import json\n",
    "from dotenv import load_dotenv\n",
    "import os\n",
    "\n",
    "# Cargar el token desde .env\n",
    "load_dotenv()\n",
    "INEGI_TOKEN = os.getenv(\"INEGI_TOKEN\")\n",
    "\n",
    "# ID del INPC Mensual en INEGI\n",
    "serie_id = \"539261\"\n",
    "\n",
    "# Construcción de la URL\n",
    "url = f\"https://www.inegi.org.mx/app/api/indicadores/desarrolladores/jsonxml/INDICATOR/{serie_id}/es/0700/true/BISE/2.0/{INEGI_TOKEN}?type=json\"\n",
    "\n",
    "# Hacer la solicitud a la API\n",
    "response = requests.get(url)\n",
    "\n",
    "# Verificar la respuesta\n",
    "if response.status_code == 200:\n",
    "    data = response.json()\n",
    "    series_data = data[\"Series\"][0][\"OBSERVATIONS\"]\n",
    "    \n",
    "    print(f\"📊 Número de datos devueltos por la API: {len(series_data)}\")\n",
    "    print(\"📡 Primeros datos:\")\n",
    "    print(json.dumps(series_data[:5], indent=4))  # Muestra solo los primeros 5 valores\n",
    "else:\n",
    "    print(f\"❌ Error {response.status_code}: {response.text}\")\n"
   ]
  }
 ],
 "metadata": {
  "kernelspec": {
   "display_name": "arquitectura",
   "language": "python",
   "name": "python3"
  },
  "language_info": {
   "codemirror_mode": {
    "name": "ipython",
    "version": 3
   },
   "file_extension": ".py",
   "mimetype": "text/x-python",
   "name": "python",
   "nbconvert_exporter": "python",
   "pygments_lexer": "ipython3",
   "version": "3.11.11"
  }
 },
 "nbformat": 4,
 "nbformat_minor": 2
}
