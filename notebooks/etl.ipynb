{
 "cells": [
  {
   "cell_type": "markdown",
   "metadata": {},
   "source": [
    "## ETL Banxico"
   ]
  },
  {
   "cell_type": "code",
   "execution_count": 2,
   "metadata": {},
   "outputs": [],
   "source": [
    "import os\n",
    "import requests\n",
    "import pandas as pd\n",
    "from dotenv import load_dotenv\n",
    "from datetime import datetime\n",
    "from dateutil.relativedelta import relativedelta\n",
    "import boto3\n",
    "import json"
   ]
  },
  {
   "cell_type": "code",
   "execution_count": 3,
   "metadata": {},
   "outputs": [
    {
     "name": "stdout",
     "output_type": "stream",
     "text": [
      "✅ Token de Banxico cargado correctamente.\n"
     ]
    }
   ],
   "source": [
    "# 📌 Cargar variables de entorno\n",
    "load_dotenv()\n",
    "\n",
    "# 📌 Obtener los tokens desde .env\n",
    "BANXICO_TOKEN = os.getenv(\"BANXICO_TOKEN\")\n",
    "AWS_ACCESS_KEY = os.getenv(\"AWS_ACCESS_KEY\")\n",
    "AWS_SECRET_KEY = os.getenv(\"AWS_SECRET_KEY\")\n",
    "S3_BUCKET_NAME = os.getenv(\"S3_BUCKET_NAME\")\n",
    "\n",
    "if not BANXICO_TOKEN:\n",
    "    raise ValueError(\"❌ Error: BANXICO_TOKEN no encontrado en .env\")\n",
    "\n",
    "print(\"✅ Token de Banxico cargado correctamente.\")\n",
    "\n",
    "# 📌 Configurar fechas desde 2020 hasta hoy\n",
    "initial_date = \"2020-01-01\"\n",
    "final_date = datetime.today().strftime(\"%Y-%m-%d\")\n",
    "\n",
    "# 📌 Configurar cliente de Amazon S3\n",
    "s3_client = boto3.client(\n",
    "    \"s3\",\n",
    "    aws_access_key_id=AWS_ACCESS_KEY,\n",
    "    aws_secret_access_key=AWS_SECRET_KEY,\n",
    ")\n"
   ]
  },
  {
   "cell_type": "code",
   "execution_count": 4,
   "metadata": {},
   "outputs": [],
   "source": [
    "def extract_banxico_data(serie_id, initial_date, final_date):\n",
    "    \"\"\"\n",
    "    Extrae datos de la API de Banxico y los devuelve en un DataFrame.\n",
    "    \"\"\"\n",
    "    url = f\"https://www.banxico.org.mx/SieAPIRest/service/v1/series/{serie_id}/datos/{initial_date}/{final_date}?token={BANXICO_TOKEN}\"\n",
    "    response = requests.get(url)\n",
    "\n",
    "    if response.status_code != 200:\n",
    "        print(f\"❌ Error {response.status_code}: {response.text}\")\n",
    "        return None\n",
    "\n",
    "    data = response.json()\n",
    "    \n",
    "    if \"bmx\" not in data or \"series\" not in data[\"bmx\"] or not data[\"bmx\"][\"series\"]:\n",
    "        print(\"⚠️ No se encontraron datos en la respuesta de Banxico.\")\n",
    "        return None\n",
    "\n",
    "    series_data = data[\"bmx\"][\"series\"][0][\"datos\"]\n",
    "\n",
    "    if not series_data:\n",
    "        print(\"⚠️ No hay datos disponibles en este rango de fechas.\")\n",
    "        return None\n",
    "\n",
    "    # 📌 Convertir datos a DataFrame\n",
    "    df = pd.DataFrame(series_data)\n",
    "    df.columns = [\"timestamp\", \"value\"]\n",
    "\n",
    "    # 📌 Convertir fechas correctamente\n",
    "    df[\"timestamp\"] = pd.to_datetime(df[\"timestamp\"], format=\"%d/%m/%Y\", dayfirst=True)\n",
    "\n",
    "    # 📌 Convertir valores a numérico\n",
    "    df[\"value\"] = pd.to_numeric(df[\"value\"], errors=\"coerce\")\n",
    "\n",
    "    return df\n"
   ]
  },
  {
   "cell_type": "code",
   "execution_count": 5,
   "metadata": {},
   "outputs": [
    {
     "name": "stdout",
     "output_type": "stream",
     "text": [
      "✅ Datos guardados localmente en CSV.\n"
     ]
    }
   ],
   "source": [
    "# 📌 Extraer Tipo de Cambio\n",
    "df_tipo_cambio = extract_banxico_data(\"SF43718\", initial_date, final_date)\n",
    "df_tipo_cambio.to_csv(\"tipo_de_cambio.csv\", index=False)\n",
    "\n",
    "# 📌 Extraer Tasa de Interés\n",
    "df_tasa_interes = extract_banxico_data(\"SF282\", initial_date, final_date)\n",
    "df_tasa_interes.to_csv(\"tasa_de_interes.csv\", index=False)\n",
    "\n",
    "# 📌 Extraer INPC desde Banxico\n",
    "df_inpc = extract_banxico_data(\"SP1\", initial_date, final_date)\n",
    "df_inpc.to_csv(\"inpc.csv\", index=False)\n",
    "\n",
    "print(\"✅ Datos guardados localmente en CSV.\")\n"
   ]
  },
  {
   "cell_type": "code",
   "execution_count": 6,
   "metadata": {},
   "outputs": [
    {
     "name": "stdout",
     "output_type": "stream",
     "text": [
      "✅ Bucket encontrado: arquitectura-athena-queries-sofia\n",
      "✅ Bucket encontrado: banxico-hw\n",
      "✅ Bucket encontrado: itam-analytics-sofia\n",
      "✅ Bucket encontrado: sofia-temp-flights\n",
      "📂 Archivo en S3: raw/ - Tamaño: 0 bytes\n",
      "📂 Archivo en S3: raw/inpc.csv - Tamaño: 1190 bytes\n",
      "📂 Archivo en S3: raw/tasa_de_interes.csv - Tamaño: 1029 bytes\n",
      "📂 Archivo en S3: raw/tipo_de_cambio.csv - Tamaño: 24694 bytes\n"
     ]
    }
   ],
   "source": [
    "# Toma\"default\"\n",
    "s3_client = boto3.client(\"s3\")\n",
    "\n",
    "# Probar conexión\n",
    "response = s3_client.list_buckets()\n",
    "for bucket in response[\"Buckets\"]:\n",
    "    print(f\"✅ Bucket encontrado: {bucket['Name']}\")\n",
    "# 📌 Probar conexión\n",
    "try:\n",
    "    response = s3_client.list_objects_v2(Bucket=\"banxico-hw\", Prefix=\"raw/\")\n",
    "    for obj in response.get(\"Contents\", []):\n",
    "        print(f\"📂 Archivo en S3: {obj['Key']} - Tamaño: {obj['Size']} bytes\")\n",
    "except Exception as e:\n",
    "    print(f\"❌ Error al conectar con S3: {e}\")\n"
   ]
  },
  {
   "cell_type": "code",
   "execution_count": 7,
   "metadata": {},
   "outputs": [
    {
     "name": "stdout",
     "output_type": "stream",
     "text": [
      "✅ Archivo tipo_de_cambio.csv subido a S3 en raw/tipo_de_cambio.csv\n",
      "✅ Archivo tasa_de_interes.csv subido a S3 en raw/tasa_de_interes.csv\n",
      "✅ Archivo inpc.csv subido a S3 en raw/inpc.csv\n",
      "✅ Todos los archivos han sido subidos a S3 en la carpeta 'raw/'.\n"
     ]
    }
   ],
   "source": [
    "def upload_to_s3(file_name, bucket, folder):\n",
    "    \"\"\"\n",
    "    Sube un archivo local a Amazon S3 en la carpeta especificada.\n",
    "    \"\"\"\n",
    "    object_name = f\"{folder}/{file_name}\"\n",
    "    try:\n",
    "        s3_client.upload_file(file_name, bucket, object_name)\n",
    "        print(f\"✅ Archivo {file_name} subido a S3 en {object_name}\")\n",
    "    except Exception as e:\n",
    "        print(f\"❌ Error al subir {file_name}: {e}\")\n",
    "\n",
    "# 📌 Subir los archivos a S3\n",
    "upload_to_s3(\"tipo_de_cambio.csv\", \"banxico-hw\", \"raw\")\n",
    "upload_to_s3(\"tasa_de_interes.csv\", \"banxico-hw\", \"raw\")\n",
    "upload_to_s3(\"inpc.csv\", \"banxico-hw\", \"raw\")\n",
    "\n",
    "print(\"✅ Todos los archivos han sido subidos a S3 en la carpeta 'raw/'.\")\n"
   ]
  },
  {
   "cell_type": "markdown",
   "metadata": {},
   "source": [
    "---"
   ]
  },
  {
   "cell_type": "markdown",
   "metadata": {},
   "source": [
    "### Transforming and cleaning raw data"
   ]
  },
  {
   "cell_type": "code",
   "execution_count": 8,
   "metadata": {},
   "outputs": [
    {
     "name": "stdout",
     "output_type": "stream",
     "text": [
      "✅ Archivos cargados correctamente\n"
     ]
    }
   ],
   "source": [
    "# 📌 Usar rutas relativas desde donde está el script\n",
    "file_paths = {\n",
    "    \"tipo_de_cambio\": \"tipo_de_cambio.csv\",\n",
    "    \"tasa_de_interes\": \"tasa_de_interes.csv\",\n",
    "    \"inpc\": \"inpc.csv\"\n",
    "}\n",
    "\n",
    "# 📌 Leer los archivos correctamente\n",
    "df_tipo_cambio = pd.read_csv(file_paths[\"tipo_de_cambio\"], parse_dates=[\"timestamp\"])\n",
    "df_tasa_interes = pd.read_csv(file_paths[\"tasa_de_interes\"], parse_dates=[\"timestamp\"])\n",
    "df_inpc = pd.read_csv(file_paths[\"inpc\"], parse_dates=[\"timestamp\"])\n",
    "\n",
    "# 📌 Renombrar columnas para mantener coherencia\n",
    "df_tipo_cambio.rename(columns={\"timestamp\": \"date\", \"value\": \"tipo_de_cambio\"}, inplace=True)\n",
    "df_tasa_interes.rename(columns={\"timestamp\": \"date\", \"value\": \"tasa_de_interes\"}, inplace=True)\n",
    "df_inpc.rename(columns={\"timestamp\": \"date\", \"value\": \"inpc\"}, inplace=True)\n",
    "\n",
    "print(\"✅ Archivos cargados correctamente\")\n"
   ]
  },
  {
   "cell_type": "code",
   "execution_count": 9,
   "metadata": {},
   "outputs": [
    {
     "name": "stdout",
     "output_type": "stream",
     "text": [
      "        date  tipo_de_cambio\n",
      "0 2020-01-02         18.8817\n",
      "1 2020-01-03         18.8673\n",
      "2 2020-01-06         18.8270\n",
      "3 2020-01-07         18.8852\n",
      "4 2020-01-08         18.7980\n",
      "        date  tasa_de_interes\n",
      "0 2020-01-01             7.12\n",
      "1 2020-02-01             6.96\n",
      "2 2020-03-01             6.81\n",
      "3 2020-04-01             6.09\n",
      "4 2020-05-01             5.47\n",
      "        date     inpc\n",
      "0 2020-01-01  106.447\n",
      "1 2020-02-01  106.889\n",
      "2 2020-03-01  106.838\n",
      "3 2020-04-01  105.755\n",
      "4 2020-05-01  106.162\n"
     ]
    }
   ],
   "source": [
    "# print head de los dataframes\n",
    "print(df_tipo_cambio.head())\n",
    "print(df_tasa_interes.head())\n",
    "print(df_inpc.head())"
   ]
  },
  {
   "cell_type": "code",
   "execution_count": 10,
   "metadata": {},
   "outputs": [
    {
     "name": "stdout",
     "output_type": "stream",
     "text": [
      "✅ Inflación anualizada calculada correctamente\n"
     ]
    }
   ],
   "source": [
    "# 📌 Crear la columna con el INPC rezagado 12 meses\n",
    "df_inpc[\"inpc_lag_12\"] = df_inpc[\"inpc\"].shift(12)\n",
    "\n",
    "# 📌 Calcular la inflación anualizada en porcentaje\n",
    "df_inpc[\"inflacion\"] = 100 * (df_inpc[\"inpc\"] / df_inpc[\"inpc_lag_12\"] - 1)\n",
    "\n",
    "# 📌 Eliminar filas con valores NaN (primeros 12 meses no tienen inpc_lag_12)\n",
    "df_inpc = df_inpc.dropna()\n",
    "\n",
    "print(\"✅ Inflación anualizada calculada correctamente\")"
   ]
  },
  {
   "cell_type": "code",
   "execution_count": 11,
   "metadata": {},
   "outputs": [
    {
     "data": {
      "application/vnd.microsoft.datawrangler.viewer.v0+json": {
       "columns": [
        {
         "name": "index",
         "rawType": "int64",
         "type": "integer"
        },
        {
         "name": "date",
         "rawType": "datetime64[ns]",
         "type": "datetime"
        },
        {
         "name": "inpc",
         "rawType": "float64",
         "type": "float"
        },
        {
         "name": "inpc_lag_12",
         "rawType": "float64",
         "type": "float"
        },
        {
         "name": "inflacion",
         "rawType": "float64",
         "type": "float"
        }
       ],
       "conversionMethod": "pd.DataFrame",
       "ref": "f9b9e630-3d20-4137-9c7e-b6f8370c7e5f",
       "rows": [
        [
         "12",
         "2021-01-01 00:00:00",
         "110.21",
         "106.447",
         "3.5350925812845713"
        ],
        [
         "13",
         "2021-02-01 00:00:00",
         "110.907",
         "106.889",
         "3.759039751517923"
        ],
        [
         "14",
         "2021-03-01 00:00:00",
         "111.824",
         "106.838",
         "4.666878825885923"
        ],
        [
         "15",
         "2021-04-01 00:00:00",
         "112.19",
         "105.755",
         "6.08481868469577"
        ],
        [
         "16",
         "2021-05-01 00:00:00",
         "112.419",
         "106.162",
         "5.893822648405256"
        ],
        [
         "17",
         "2021-06-01 00:00:00",
         "113.018",
         "106.743",
         "5.878605622851163"
        ],
        [
         "18",
         "2021-07-01 00:00:00",
         "113.682",
         "107.444",
         "5.805815122296276"
        ],
        [
         "19",
         "2021-08-01 00:00:00",
         "113.899",
         "107.867",
         "5.592071717948954"
        ],
        [
         "20",
         "2021-09-01 00:00:00",
         "114.601",
         "108.114",
         "6.000147991934424"
        ],
        [
         "21",
         "2021-10-01 00:00:00",
         "115.561",
         "108.774",
         "6.239542537738796"
        ],
        [
         "22",
         "2021-11-01 00:00:00",
         "116.884",
         "108.856",
         "7.374880576174037"
        ],
        [
         "23",
         "2021-12-01 00:00:00",
         "117.308",
         "109.271",
         "7.355107942638028"
        ],
        [
         "24",
         "2022-01-01 00:00:00",
         "118.002",
         "110.21",
         "7.070138825877881"
        ],
        [
         "25",
         "2022-02-01 00:00:00",
         "118.981",
         "110.907",
         "7.279973310972254"
        ],
        [
         "26",
         "2022-03-01 00:00:00",
         "120.159",
         "111.824",
         "7.453677207039644"
        ],
        [
         "27",
         "2022-04-01 00:00:00",
         "120.809",
         "112.19",
         "7.682502896871379"
        ],
        [
         "28",
         "2022-05-01 00:00:00",
         "121.022",
         "112.419",
         "7.652620998229853"
        ],
        [
         "29",
         "2022-06-01 00:00:00",
         "122.044",
         "113.018",
         "7.986338459360454"
        ],
        [
         "30",
         "2022-07-01 00:00:00",
         "122.948",
         "113.682",
         "8.150806636054941"
        ],
        [
         "31",
         "2022-08-01 00:00:00",
         "123.803",
         "113.899",
         "8.695423138043346"
        ],
        [
         "32",
         "2022-09-01 00:00:00",
         "124.571",
         "114.601",
         "8.699749565885107"
        ],
        [
         "33",
         "2022-10-01 00:00:00",
         "125.276",
         "115.561",
         "8.406815448118298"
        ],
        [
         "34",
         "2022-11-01 00:00:00",
         "125.997",
         "116.884",
         "7.796618869990768"
        ],
        [
         "35",
         "2022-12-01 00:00:00",
         "126.478",
         "117.308",
         "7.817028676646087"
        ],
        [
         "36",
         "2023-01-01 00:00:00",
         "127.336",
         "118.002",
         "7.910035423128425"
        ],
        [
         "37",
         "2023-02-01 00:00:00",
         "128.046",
         "118.981",
         "7.618863516023566"
        ],
        [
         "38",
         "2023-03-01 00:00:00",
         "128.389",
         "120.159",
         "6.849258066395358"
        ],
        [
         "39",
         "2023-04-01 00:00:00",
         "128.363",
         "120.809",
         "6.252845400591012"
        ],
        [
         "40",
         "2023-05-01 00:00:00",
         "128.084",
         "121.022",
         "5.835302672241416"
        ],
        [
         "41",
         "2023-06-01 00:00:00",
         "128.214",
         "122.044",
         "5.055553734718621"
        ],
        [
         "42",
         "2023-07-01 00:00:00",
         "128.832",
         "122.948",
         "4.78576308683345"
        ],
        [
         "43",
         "2023-08-01 00:00:00",
         "129.545",
         "123.803",
         "4.638013618409875"
        ],
        [
         "44",
         "2023-09-01 00:00:00",
         "130.12",
         "124.571",
         "4.4544878021369305"
        ],
        [
         "45",
         "2023-10-01 00:00:00",
         "130.609",
         "125.276",
         "4.2570005428015145"
        ],
        [
         "46",
         "2023-11-01 00:00:00",
         "131.445",
         "125.997",
         "4.323912474106528"
        ],
        [
         "47",
         "2023-12-01 00:00:00",
         "132.373",
         "126.478",
         "4.660889640886157"
        ],
        [
         "48",
         "2024-01-01 00:00:00",
         "133.555",
         "127.336",
         "4.883929132374187"
        ],
        [
         "49",
         "2024-02-01 00:00:00",
         "133.681",
         "128.046",
         "4.400762226075017"
        ],
        [
         "50",
         "2024-03-01 00:00:00",
         "134.065",
         "128.389",
         "4.4209394885854625"
        ],
        [
         "51",
         "2024-04-01 00:00:00",
         "134.336",
         "128.363",
         "4.65321003716026"
        ],
        [
         "52",
         "2024-05-01 00:00:00",
         "134.087",
         "128.084",
         "4.686768058461621"
        ],
        [
         "53",
         "2024-06-01 00:00:00",
         "134.594",
         "128.214",
         "4.9760556569485415"
        ],
        [
         "54",
         "2024-07-01 00:00:00",
         "136.003",
         "128.832",
         "5.566163686040726"
        ],
        [
         "55",
         "2024-08-01 00:00:00",
         "136.013",
         "129.545",
         "4.992859624068879"
        ],
        [
         "56",
         "2024-09-01 00:00:00",
         "136.08",
         "130.12",
         "4.58038733476791"
        ],
        [
         "57",
         "2024-10-01 00:00:00",
         "136.828",
         "130.609",
         "4.761540169513578"
        ],
        [
         "58",
         "2024-11-01 00:00:00",
         "137.424",
         "131.445",
         "4.548670546616473"
        ],
        [
         "59",
         "2024-12-01 00:00:00",
         "137.949",
         "132.373",
         "4.212339374343732"
        ],
        [
         "60",
         "2025-01-01 00:00:00",
         "138.343",
         "133.555",
         "3.585039871214102"
        ],
        [
         "61",
         "2025-02-01 00:00:00",
         "138.726",
         "133.681",
         "3.7739095308981785"
        ]
       ],
       "shape": {
        "columns": 4,
        "rows": 50
       }
      },
      "text/html": [
       "<div>\n",
       "<style scoped>\n",
       "    .dataframe tbody tr th:only-of-type {\n",
       "        vertical-align: middle;\n",
       "    }\n",
       "\n",
       "    .dataframe tbody tr th {\n",
       "        vertical-align: top;\n",
       "    }\n",
       "\n",
       "    .dataframe thead th {\n",
       "        text-align: right;\n",
       "    }\n",
       "</style>\n",
       "<table border=\"1\" class=\"dataframe\">\n",
       "  <thead>\n",
       "    <tr style=\"text-align: right;\">\n",
       "      <th></th>\n",
       "      <th>date</th>\n",
       "      <th>inpc</th>\n",
       "      <th>inpc_lag_12</th>\n",
       "      <th>inflacion</th>\n",
       "    </tr>\n",
       "  </thead>\n",
       "  <tbody>\n",
       "    <tr>\n",
       "      <th>12</th>\n",
       "      <td>2021-01-01</td>\n",
       "      <td>110.210</td>\n",
       "      <td>106.447</td>\n",
       "      <td>3.535093</td>\n",
       "    </tr>\n",
       "    <tr>\n",
       "      <th>13</th>\n",
       "      <td>2021-02-01</td>\n",
       "      <td>110.907</td>\n",
       "      <td>106.889</td>\n",
       "      <td>3.759040</td>\n",
       "    </tr>\n",
       "    <tr>\n",
       "      <th>14</th>\n",
       "      <td>2021-03-01</td>\n",
       "      <td>111.824</td>\n",
       "      <td>106.838</td>\n",
       "      <td>4.666879</td>\n",
       "    </tr>\n",
       "    <tr>\n",
       "      <th>15</th>\n",
       "      <td>2021-04-01</td>\n",
       "      <td>112.190</td>\n",
       "      <td>105.755</td>\n",
       "      <td>6.084819</td>\n",
       "    </tr>\n",
       "    <tr>\n",
       "      <th>16</th>\n",
       "      <td>2021-05-01</td>\n",
       "      <td>112.419</td>\n",
       "      <td>106.162</td>\n",
       "      <td>5.893823</td>\n",
       "    </tr>\n",
       "    <tr>\n",
       "      <th>17</th>\n",
       "      <td>2021-06-01</td>\n",
       "      <td>113.018</td>\n",
       "      <td>106.743</td>\n",
       "      <td>5.878606</td>\n",
       "    </tr>\n",
       "    <tr>\n",
       "      <th>18</th>\n",
       "      <td>2021-07-01</td>\n",
       "      <td>113.682</td>\n",
       "      <td>107.444</td>\n",
       "      <td>5.805815</td>\n",
       "    </tr>\n",
       "    <tr>\n",
       "      <th>19</th>\n",
       "      <td>2021-08-01</td>\n",
       "      <td>113.899</td>\n",
       "      <td>107.867</td>\n",
       "      <td>5.592072</td>\n",
       "    </tr>\n",
       "    <tr>\n",
       "      <th>20</th>\n",
       "      <td>2021-09-01</td>\n",
       "      <td>114.601</td>\n",
       "      <td>108.114</td>\n",
       "      <td>6.000148</td>\n",
       "    </tr>\n",
       "    <tr>\n",
       "      <th>21</th>\n",
       "      <td>2021-10-01</td>\n",
       "      <td>115.561</td>\n",
       "      <td>108.774</td>\n",
       "      <td>6.239543</td>\n",
       "    </tr>\n",
       "    <tr>\n",
       "      <th>22</th>\n",
       "      <td>2021-11-01</td>\n",
       "      <td>116.884</td>\n",
       "      <td>108.856</td>\n",
       "      <td>7.374881</td>\n",
       "    </tr>\n",
       "    <tr>\n",
       "      <th>23</th>\n",
       "      <td>2021-12-01</td>\n",
       "      <td>117.308</td>\n",
       "      <td>109.271</td>\n",
       "      <td>7.355108</td>\n",
       "    </tr>\n",
       "    <tr>\n",
       "      <th>24</th>\n",
       "      <td>2022-01-01</td>\n",
       "      <td>118.002</td>\n",
       "      <td>110.210</td>\n",
       "      <td>7.070139</td>\n",
       "    </tr>\n",
       "    <tr>\n",
       "      <th>25</th>\n",
       "      <td>2022-02-01</td>\n",
       "      <td>118.981</td>\n",
       "      <td>110.907</td>\n",
       "      <td>7.279973</td>\n",
       "    </tr>\n",
       "    <tr>\n",
       "      <th>26</th>\n",
       "      <td>2022-03-01</td>\n",
       "      <td>120.159</td>\n",
       "      <td>111.824</td>\n",
       "      <td>7.453677</td>\n",
       "    </tr>\n",
       "    <tr>\n",
       "      <th>27</th>\n",
       "      <td>2022-04-01</td>\n",
       "      <td>120.809</td>\n",
       "      <td>112.190</td>\n",
       "      <td>7.682503</td>\n",
       "    </tr>\n",
       "    <tr>\n",
       "      <th>28</th>\n",
       "      <td>2022-05-01</td>\n",
       "      <td>121.022</td>\n",
       "      <td>112.419</td>\n",
       "      <td>7.652621</td>\n",
       "    </tr>\n",
       "    <tr>\n",
       "      <th>29</th>\n",
       "      <td>2022-06-01</td>\n",
       "      <td>122.044</td>\n",
       "      <td>113.018</td>\n",
       "      <td>7.986338</td>\n",
       "    </tr>\n",
       "    <tr>\n",
       "      <th>30</th>\n",
       "      <td>2022-07-01</td>\n",
       "      <td>122.948</td>\n",
       "      <td>113.682</td>\n",
       "      <td>8.150807</td>\n",
       "    </tr>\n",
       "    <tr>\n",
       "      <th>31</th>\n",
       "      <td>2022-08-01</td>\n",
       "      <td>123.803</td>\n",
       "      <td>113.899</td>\n",
       "      <td>8.695423</td>\n",
       "    </tr>\n",
       "    <tr>\n",
       "      <th>32</th>\n",
       "      <td>2022-09-01</td>\n",
       "      <td>124.571</td>\n",
       "      <td>114.601</td>\n",
       "      <td>8.699750</td>\n",
       "    </tr>\n",
       "    <tr>\n",
       "      <th>33</th>\n",
       "      <td>2022-10-01</td>\n",
       "      <td>125.276</td>\n",
       "      <td>115.561</td>\n",
       "      <td>8.406815</td>\n",
       "    </tr>\n",
       "    <tr>\n",
       "      <th>34</th>\n",
       "      <td>2022-11-01</td>\n",
       "      <td>125.997</td>\n",
       "      <td>116.884</td>\n",
       "      <td>7.796619</td>\n",
       "    </tr>\n",
       "    <tr>\n",
       "      <th>35</th>\n",
       "      <td>2022-12-01</td>\n",
       "      <td>126.478</td>\n",
       "      <td>117.308</td>\n",
       "      <td>7.817029</td>\n",
       "    </tr>\n",
       "    <tr>\n",
       "      <th>36</th>\n",
       "      <td>2023-01-01</td>\n",
       "      <td>127.336</td>\n",
       "      <td>118.002</td>\n",
       "      <td>7.910035</td>\n",
       "    </tr>\n",
       "    <tr>\n",
       "      <th>37</th>\n",
       "      <td>2023-02-01</td>\n",
       "      <td>128.046</td>\n",
       "      <td>118.981</td>\n",
       "      <td>7.618864</td>\n",
       "    </tr>\n",
       "    <tr>\n",
       "      <th>38</th>\n",
       "      <td>2023-03-01</td>\n",
       "      <td>128.389</td>\n",
       "      <td>120.159</td>\n",
       "      <td>6.849258</td>\n",
       "    </tr>\n",
       "    <tr>\n",
       "      <th>39</th>\n",
       "      <td>2023-04-01</td>\n",
       "      <td>128.363</td>\n",
       "      <td>120.809</td>\n",
       "      <td>6.252845</td>\n",
       "    </tr>\n",
       "    <tr>\n",
       "      <th>40</th>\n",
       "      <td>2023-05-01</td>\n",
       "      <td>128.084</td>\n",
       "      <td>121.022</td>\n",
       "      <td>5.835303</td>\n",
       "    </tr>\n",
       "    <tr>\n",
       "      <th>41</th>\n",
       "      <td>2023-06-01</td>\n",
       "      <td>128.214</td>\n",
       "      <td>122.044</td>\n",
       "      <td>5.055554</td>\n",
       "    </tr>\n",
       "    <tr>\n",
       "      <th>42</th>\n",
       "      <td>2023-07-01</td>\n",
       "      <td>128.832</td>\n",
       "      <td>122.948</td>\n",
       "      <td>4.785763</td>\n",
       "    </tr>\n",
       "    <tr>\n",
       "      <th>43</th>\n",
       "      <td>2023-08-01</td>\n",
       "      <td>129.545</td>\n",
       "      <td>123.803</td>\n",
       "      <td>4.638014</td>\n",
       "    </tr>\n",
       "    <tr>\n",
       "      <th>44</th>\n",
       "      <td>2023-09-01</td>\n",
       "      <td>130.120</td>\n",
       "      <td>124.571</td>\n",
       "      <td>4.454488</td>\n",
       "    </tr>\n",
       "    <tr>\n",
       "      <th>45</th>\n",
       "      <td>2023-10-01</td>\n",
       "      <td>130.609</td>\n",
       "      <td>125.276</td>\n",
       "      <td>4.257001</td>\n",
       "    </tr>\n",
       "    <tr>\n",
       "      <th>46</th>\n",
       "      <td>2023-11-01</td>\n",
       "      <td>131.445</td>\n",
       "      <td>125.997</td>\n",
       "      <td>4.323912</td>\n",
       "    </tr>\n",
       "    <tr>\n",
       "      <th>47</th>\n",
       "      <td>2023-12-01</td>\n",
       "      <td>132.373</td>\n",
       "      <td>126.478</td>\n",
       "      <td>4.660890</td>\n",
       "    </tr>\n",
       "    <tr>\n",
       "      <th>48</th>\n",
       "      <td>2024-01-01</td>\n",
       "      <td>133.555</td>\n",
       "      <td>127.336</td>\n",
       "      <td>4.883929</td>\n",
       "    </tr>\n",
       "    <tr>\n",
       "      <th>49</th>\n",
       "      <td>2024-02-01</td>\n",
       "      <td>133.681</td>\n",
       "      <td>128.046</td>\n",
       "      <td>4.400762</td>\n",
       "    </tr>\n",
       "    <tr>\n",
       "      <th>50</th>\n",
       "      <td>2024-03-01</td>\n",
       "      <td>134.065</td>\n",
       "      <td>128.389</td>\n",
       "      <td>4.420939</td>\n",
       "    </tr>\n",
       "    <tr>\n",
       "      <th>51</th>\n",
       "      <td>2024-04-01</td>\n",
       "      <td>134.336</td>\n",
       "      <td>128.363</td>\n",
       "      <td>4.653210</td>\n",
       "    </tr>\n",
       "    <tr>\n",
       "      <th>52</th>\n",
       "      <td>2024-05-01</td>\n",
       "      <td>134.087</td>\n",
       "      <td>128.084</td>\n",
       "      <td>4.686768</td>\n",
       "    </tr>\n",
       "    <tr>\n",
       "      <th>53</th>\n",
       "      <td>2024-06-01</td>\n",
       "      <td>134.594</td>\n",
       "      <td>128.214</td>\n",
       "      <td>4.976056</td>\n",
       "    </tr>\n",
       "    <tr>\n",
       "      <th>54</th>\n",
       "      <td>2024-07-01</td>\n",
       "      <td>136.003</td>\n",
       "      <td>128.832</td>\n",
       "      <td>5.566164</td>\n",
       "    </tr>\n",
       "    <tr>\n",
       "      <th>55</th>\n",
       "      <td>2024-08-01</td>\n",
       "      <td>136.013</td>\n",
       "      <td>129.545</td>\n",
       "      <td>4.992860</td>\n",
       "    </tr>\n",
       "    <tr>\n",
       "      <th>56</th>\n",
       "      <td>2024-09-01</td>\n",
       "      <td>136.080</td>\n",
       "      <td>130.120</td>\n",
       "      <td>4.580387</td>\n",
       "    </tr>\n",
       "    <tr>\n",
       "      <th>57</th>\n",
       "      <td>2024-10-01</td>\n",
       "      <td>136.828</td>\n",
       "      <td>130.609</td>\n",
       "      <td>4.761540</td>\n",
       "    </tr>\n",
       "    <tr>\n",
       "      <th>58</th>\n",
       "      <td>2024-11-01</td>\n",
       "      <td>137.424</td>\n",
       "      <td>131.445</td>\n",
       "      <td>4.548671</td>\n",
       "    </tr>\n",
       "    <tr>\n",
       "      <th>59</th>\n",
       "      <td>2024-12-01</td>\n",
       "      <td>137.949</td>\n",
       "      <td>132.373</td>\n",
       "      <td>4.212339</td>\n",
       "    </tr>\n",
       "    <tr>\n",
       "      <th>60</th>\n",
       "      <td>2025-01-01</td>\n",
       "      <td>138.343</td>\n",
       "      <td>133.555</td>\n",
       "      <td>3.585040</td>\n",
       "    </tr>\n",
       "    <tr>\n",
       "      <th>61</th>\n",
       "      <td>2025-02-01</td>\n",
       "      <td>138.726</td>\n",
       "      <td>133.681</td>\n",
       "      <td>3.773910</td>\n",
       "    </tr>\n",
       "  </tbody>\n",
       "</table>\n",
       "</div>"
      ],
      "text/plain": [
       "         date     inpc  inpc_lag_12  inflacion\n",
       "12 2021-01-01  110.210      106.447   3.535093\n",
       "13 2021-02-01  110.907      106.889   3.759040\n",
       "14 2021-03-01  111.824      106.838   4.666879\n",
       "15 2021-04-01  112.190      105.755   6.084819\n",
       "16 2021-05-01  112.419      106.162   5.893823\n",
       "17 2021-06-01  113.018      106.743   5.878606\n",
       "18 2021-07-01  113.682      107.444   5.805815\n",
       "19 2021-08-01  113.899      107.867   5.592072\n",
       "20 2021-09-01  114.601      108.114   6.000148\n",
       "21 2021-10-01  115.561      108.774   6.239543\n",
       "22 2021-11-01  116.884      108.856   7.374881\n",
       "23 2021-12-01  117.308      109.271   7.355108\n",
       "24 2022-01-01  118.002      110.210   7.070139\n",
       "25 2022-02-01  118.981      110.907   7.279973\n",
       "26 2022-03-01  120.159      111.824   7.453677\n",
       "27 2022-04-01  120.809      112.190   7.682503\n",
       "28 2022-05-01  121.022      112.419   7.652621\n",
       "29 2022-06-01  122.044      113.018   7.986338\n",
       "30 2022-07-01  122.948      113.682   8.150807\n",
       "31 2022-08-01  123.803      113.899   8.695423\n",
       "32 2022-09-01  124.571      114.601   8.699750\n",
       "33 2022-10-01  125.276      115.561   8.406815\n",
       "34 2022-11-01  125.997      116.884   7.796619\n",
       "35 2022-12-01  126.478      117.308   7.817029\n",
       "36 2023-01-01  127.336      118.002   7.910035\n",
       "37 2023-02-01  128.046      118.981   7.618864\n",
       "38 2023-03-01  128.389      120.159   6.849258\n",
       "39 2023-04-01  128.363      120.809   6.252845\n",
       "40 2023-05-01  128.084      121.022   5.835303\n",
       "41 2023-06-01  128.214      122.044   5.055554\n",
       "42 2023-07-01  128.832      122.948   4.785763\n",
       "43 2023-08-01  129.545      123.803   4.638014\n",
       "44 2023-09-01  130.120      124.571   4.454488\n",
       "45 2023-10-01  130.609      125.276   4.257001\n",
       "46 2023-11-01  131.445      125.997   4.323912\n",
       "47 2023-12-01  132.373      126.478   4.660890\n",
       "48 2024-01-01  133.555      127.336   4.883929\n",
       "49 2024-02-01  133.681      128.046   4.400762\n",
       "50 2024-03-01  134.065      128.389   4.420939\n",
       "51 2024-04-01  134.336      128.363   4.653210\n",
       "52 2024-05-01  134.087      128.084   4.686768\n",
       "53 2024-06-01  134.594      128.214   4.976056\n",
       "54 2024-07-01  136.003      128.832   5.566164\n",
       "55 2024-08-01  136.013      129.545   4.992860\n",
       "56 2024-09-01  136.080      130.120   4.580387\n",
       "57 2024-10-01  136.828      130.609   4.761540\n",
       "58 2024-11-01  137.424      131.445   4.548671\n",
       "59 2024-12-01  137.949      132.373   4.212339\n",
       "60 2025-01-01  138.343      133.555   3.585040\n",
       "61 2025-02-01  138.726      133.681   3.773910"
      ]
     },
     "execution_count": 11,
     "metadata": {},
     "output_type": "execute_result"
    }
   ],
   "source": [
    "df_inpc"
   ]
  },
  {
   "cell_type": "code",
   "execution_count": 12,
   "metadata": {},
   "outputs": [
    {
     "name": "stdout",
     "output_type": "stream",
     "text": [
      "✅ Fechas convertidas correctamente\n"
     ]
    }
   ],
   "source": [
    "# 📌 Convertir las fechas a formato datetime estándar\n",
    "df_tipo_cambio[\"date\"] = pd.to_datetime(df_tipo_cambio[\"date\"], format=\"%Y-%m-%d\")\n",
    "df_tasa_interes[\"date\"] = pd.to_datetime(df_tasa_interes[\"date\"], format=\"%Y-%m-%d\")\n",
    "df_inpc[\"date\"] = pd.to_datetime(df_inpc[\"date\"], format=\"%Y-%m-%d\")\n",
    "\n",
    "print(\"✅ Fechas convertidas correctamente\")\n"
   ]
  },
  {
   "cell_type": "code",
   "execution_count": 13,
   "metadata": {},
   "outputs": [
    {
     "name": "stdout",
     "output_type": "stream",
     "text": [
      "✅ Fechas convertidas a nivel mensual\n"
     ]
    }
   ],
   "source": [
    "# 📌 Convertir las fechas a solo \"AAAA-MM\" (a nivel mensual)\n",
    "df_tipo_cambio[\"date\"] = df_tipo_cambio[\"date\"].dt.to_period(\"M\")\n",
    "df_tasa_interes[\"date\"] = df_tasa_interes[\"date\"].dt.to_period(\"M\")\n",
    "df_inpc[\"date\"] = df_inpc[\"date\"].dt.to_period(\"M\")\n",
    "\n",
    "print(\"✅ Fechas convertidas a nivel mensual\")\n"
   ]
  },
  {
   "cell_type": "code",
   "execution_count": 14,
   "metadata": {},
   "outputs": [
    {
     "name": "stdout",
     "output_type": "stream",
     "text": [
      "✅ Tipo de cambio agregado a nivel mensual\n"
     ]
    }
   ],
   "source": [
    "# 📌 Para el tipo de cambio, tomamos el promedio mensual\n",
    "df_tipo_cambio = df_tipo_cambio.groupby(\"date\").agg({\"tipo_de_cambio\": \"mean\"}).reset_index()\n",
    "\n",
    "print(\"✅ Tipo de cambio agregado a nivel mensual\")\n"
   ]
  },
  {
   "cell_type": "code",
   "execution_count": 15,
   "metadata": {},
   "outputs": [
    {
     "name": "stdout",
     "output_type": "stream",
     "text": [
      "✅ Fechas base creadas correctamente\n"
     ]
    }
   ],
   "source": [
    "# 📌 Crear un DataFrame con todas las fechas mensuales disponibles\n",
    "df_base = pd.DataFrame({\"date\": pd.period_range(start=df_inpc[\"date\"].min(), \n",
    "                                                end=df_inpc[\"date\"].max(), \n",
    "                                                freq=\"M\")})\n",
    "\n",
    "print(\"✅ Fechas base creadas correctamente\")\n"
   ]
  },
  {
   "cell_type": "code",
   "execution_count": 16,
   "metadata": {},
   "outputs": [
    {
     "name": "stdout",
     "output_type": "stream",
     "text": [
      "✅ Datos combinados correctamente con fechas alineadas\n"
     ]
    }
   ],
   "source": [
    "# 📌 Hacer merge con todas las series asegurando alineación de fechas\n",
    "df_final = df_base.merge(df_tasa_interes, on=\"date\", how=\"left\") \\\n",
    "                  .merge(df_inpc[[\"date\", \"inflacion\"]], on=\"date\", how=\"left\") \\\n",
    "                  .merge(df_tipo_cambio, on=\"date\", how=\"left\")\n",
    "\n",
    "print(\"✅ Datos combinados correctamente con fechas alineadas\")\n"
   ]
  },
  {
   "cell_type": "code",
   "execution_count": 17,
   "metadata": {},
   "outputs": [
    {
     "name": "stdout",
     "output_type": "stream",
     "text": [
      "🔍 Valores nulos antes de dropna():\n",
      "date               0\n",
      "tasa_de_interes    0\n",
      "inflacion          0\n",
      "tipo_de_cambio     0\n",
      "dtype: int64\n",
      "📅 Rango de fechas después del merge:\n",
      "2021-01 ➡ 2025-02\n"
     ]
    }
   ],
   "source": [
    "# 📌 Verificar si hay valores nulos\n",
    "print(\"🔍 Valores nulos antes de dropna():\")\n",
    "print(df_final.isna().sum())\n",
    "\n",
    "# 📌 Verificar el rango de fechas final\n",
    "print(\"📅 Rango de fechas después del merge:\")\n",
    "print(df_final[\"date\"].min(), \"➡\", df_final[\"date\"].max())\n"
   ]
  },
  {
   "cell_type": "code",
   "execution_count": 18,
   "metadata": {},
   "outputs": [
    {
     "data": {
      "application/vnd.microsoft.datawrangler.viewer.v0+json": {
       "columns": [
        {
         "name": "index",
         "rawType": "int64",
         "type": "integer"
        },
        {
         "name": "date",
         "rawType": "period[M]",
         "type": "unknown"
        },
        {
         "name": "tasa_de_interes",
         "rawType": "float64",
         "type": "float"
        },
        {
         "name": "inflacion",
         "rawType": "float64",
         "type": "float"
        },
        {
         "name": "tipo_de_cambio",
         "rawType": "float64",
         "type": "float"
        }
       ],
       "conversionMethod": "pd.DataFrame",
       "ref": "8e45eaf0-4c88-4cd9-81c0-8999c5d72be6",
       "rows": [
        [
         "0",
         "2021-01",
         "4.22",
         "3.5350925812845713",
         "19.921475"
        ],
        [
         "1",
         "2021-02",
         "4.12",
         "3.759039751517923",
         "20.309731578947368"
        ],
        [
         "2",
         "2021-03",
         "4.05",
         "4.666878825885923",
         "20.75545"
        ],
        [
         "3",
         "2021-04",
         "4.07",
         "6.08481868469577",
         "20.015285"
        ],
        [
         "4",
         "2021-05",
         "4.06",
         "5.893822648405256",
         "19.963128571428573"
        ],
        [
         "5",
         "2021-06",
         "4.02",
         "5.878605622851163",
         "20.03006818181818"
        ],
        [
         "6",
         "2021-07",
         "4.32",
         "5.805815122296276",
         "19.97010909090909"
        ],
        [
         "7",
         "2021-08",
         "4.46",
         "5.592071717948954",
         "20.076136363636365"
        ],
        [
         "8",
         "2021-09",
         "4.55",
         "6.000147991934424",
         "20.048690476190476"
        ],
        [
         "9",
         "2021-10",
         "4.84",
         "6.239542537738796",
         "20.462557142857143"
        ],
        [
         "10",
         "2021-11",
         "5.05",
         "7.374880576174037",
         "20.900425"
        ],
        [
         "11",
         "2021-12",
         "5.29",
         "7.355107942638028",
         "20.89184347826087"
        ],
        [
         "12",
         "2022-01",
         "5.53",
         "7.070138825877881",
         "20.49777142857143"
        ],
        [
         "13",
         "2022-02",
         "5.87",
         "7.279973310972254",
         "20.44952105263158"
        ],
        [
         "14",
         "2022-03",
         "6.31",
         "7.453677207039644",
         "20.556209090909093"
        ],
        [
         "15",
         "2022-04",
         "6.56",
         "7.682502896871379",
         "20.108805263157894"
        ],
        [
         "16",
         "2022-05",
         "6.91",
         "7.652620998229853",
         "20.030527272727273"
        ],
        [
         "17",
         "2022-06",
         "7.31",
         "7.986338459360454",
         "20.023736363636363"
        ],
        [
         "18",
         "2022-07",
         "7.76",
         "8.150806636054941",
         "20.546723809523808"
        ],
        [
         "19",
         "2022-08",
         "8.25",
         "8.695423138043346",
         "20.120930434782608"
        ],
        [
         "20",
         "2022-09",
         "8.7",
         "8.699749565885107",
         "20.07502380952381"
        ],
        [
         "21",
         "2022-10",
         "8.93",
         "8.406815448118298",
         "19.98454285714286"
        ],
        [
         "22",
         "2022-11",
         "9.42",
         "7.796618869990768",
         "19.444915"
        ],
        [
         "23",
         "2022-12",
         "9.96",
         "7.817028676646087",
         "19.592961904761903"
        ],
        [
         "24",
         "2023-01",
         "10.61",
         "7.910035423128425",
         "18.986336363636365"
        ],
        [
         "25",
         "2023-02",
         "10.92",
         "7.618863516023566",
         "18.59856842105263"
        ],
        [
         "26",
         "2023-03",
         "11.23",
         "6.849258066395358",
         "18.374904545454545"
        ],
        [
         "27",
         "2023-04",
         "11.29",
         "6.252845400591012",
         "18.085494444444446"
        ],
        [
         "28",
         "2023-05",
         "11.32",
         "5.835302672241416",
         "17.7373"
        ],
        [
         "29",
         "2023-06",
         "11.16",
         "5.055553734718621",
         "17.241204545454544"
        ],
        [
         "30",
         "2023-07",
         "11.22",
         "4.78576308683345",
         "16.904938095238094"
        ],
        [
         "31",
         "2023-08",
         "11.16",
         "4.638013618409875",
         "16.976643478260872"
        ],
        [
         "32",
         "2023-09",
         "11.08",
         "4.4544878021369305",
         "17.307690476190476"
        ],
        [
         "33",
         "2023-10",
         "11.08",
         "4.2570005428015145",
         "18.082331818181817"
        ],
        [
         "34",
         "2023-11",
         "10.89",
         "4.323912474106528",
         "17.376695"
        ],
        [
         "35",
         "2023-12",
         "11.21",
         "4.660889640886157",
         "17.18598947368421"
        ],
        [
         "36",
         "2024-01",
         "11.29",
         "4.883929132374187",
         "17.08731818181818"
        ],
        [
         "37",
         "2024-02",
         "11.05",
         "4.400762226075017",
         "17.089775"
        ],
        [
         "38",
         "2024-03",
         "11.02",
         "4.4209394885854625",
         "16.791788888888888"
        ],
        [
         "39",
         "2024-04",
         "10.97",
         "4.65321003716026",
         "16.81044090909091"
        ],
        [
         "40",
         "2024-05",
         "10.99",
         "4.686768058461621",
         "16.793563636363636"
        ],
        [
         "41",
         "2024-06",
         "10.97",
         "4.9760556569485415",
         "18.21737"
        ],
        [
         "42",
         "2024-07",
         "10.92",
         "5.566163686040726",
         "18.111691304347826"
        ],
        [
         "43",
         "2024-08",
         "10.76",
         "4.992859624068879",
         "19.151481818181818"
        ],
        [
         "44",
         "2024-09",
         "10.44",
         "4.58038733476791",
         "19.631629999999998"
        ],
        [
         "45",
         "2024-10",
         "10.24",
         "4.761540169513578",
         "19.70618181818182"
        ],
        [
         "46",
         "2024-11",
         "10.05",
         "4.548670546616473",
         "20.34549"
        ],
        [
         "47",
         "2024-12",
         "9.85",
         "4.212339374343732",
         "20.266055"
        ],
        [
         "48",
         "2025-01",
         "9.86",
         "3.585039871214102",
         "20.54901818181818"
        ],
        [
         "49",
         "2025-02",
         "9.45",
         "3.7739095308981785",
         "20.457136842105264"
        ]
       ],
       "shape": {
        "columns": 4,
        "rows": 50
       }
      },
      "text/html": [
       "<div>\n",
       "<style scoped>\n",
       "    .dataframe tbody tr th:only-of-type {\n",
       "        vertical-align: middle;\n",
       "    }\n",
       "\n",
       "    .dataframe tbody tr th {\n",
       "        vertical-align: top;\n",
       "    }\n",
       "\n",
       "    .dataframe thead th {\n",
       "        text-align: right;\n",
       "    }\n",
       "</style>\n",
       "<table border=\"1\" class=\"dataframe\">\n",
       "  <thead>\n",
       "    <tr style=\"text-align: right;\">\n",
       "      <th></th>\n",
       "      <th>date</th>\n",
       "      <th>tasa_de_interes</th>\n",
       "      <th>inflacion</th>\n",
       "      <th>tipo_de_cambio</th>\n",
       "    </tr>\n",
       "  </thead>\n",
       "  <tbody>\n",
       "    <tr>\n",
       "      <th>0</th>\n",
       "      <td>2021-01</td>\n",
       "      <td>4.22</td>\n",
       "      <td>3.535093</td>\n",
       "      <td>19.921475</td>\n",
       "    </tr>\n",
       "    <tr>\n",
       "      <th>1</th>\n",
       "      <td>2021-02</td>\n",
       "      <td>4.12</td>\n",
       "      <td>3.759040</td>\n",
       "      <td>20.309732</td>\n",
       "    </tr>\n",
       "    <tr>\n",
       "      <th>2</th>\n",
       "      <td>2021-03</td>\n",
       "      <td>4.05</td>\n",
       "      <td>4.666879</td>\n",
       "      <td>20.755450</td>\n",
       "    </tr>\n",
       "    <tr>\n",
       "      <th>3</th>\n",
       "      <td>2021-04</td>\n",
       "      <td>4.07</td>\n",
       "      <td>6.084819</td>\n",
       "      <td>20.015285</td>\n",
       "    </tr>\n",
       "    <tr>\n",
       "      <th>4</th>\n",
       "      <td>2021-05</td>\n",
       "      <td>4.06</td>\n",
       "      <td>5.893823</td>\n",
       "      <td>19.963129</td>\n",
       "    </tr>\n",
       "    <tr>\n",
       "      <th>5</th>\n",
       "      <td>2021-06</td>\n",
       "      <td>4.02</td>\n",
       "      <td>5.878606</td>\n",
       "      <td>20.030068</td>\n",
       "    </tr>\n",
       "    <tr>\n",
       "      <th>6</th>\n",
       "      <td>2021-07</td>\n",
       "      <td>4.32</td>\n",
       "      <td>5.805815</td>\n",
       "      <td>19.970109</td>\n",
       "    </tr>\n",
       "    <tr>\n",
       "      <th>7</th>\n",
       "      <td>2021-08</td>\n",
       "      <td>4.46</td>\n",
       "      <td>5.592072</td>\n",
       "      <td>20.076136</td>\n",
       "    </tr>\n",
       "    <tr>\n",
       "      <th>8</th>\n",
       "      <td>2021-09</td>\n",
       "      <td>4.55</td>\n",
       "      <td>6.000148</td>\n",
       "      <td>20.048690</td>\n",
       "    </tr>\n",
       "    <tr>\n",
       "      <th>9</th>\n",
       "      <td>2021-10</td>\n",
       "      <td>4.84</td>\n",
       "      <td>6.239543</td>\n",
       "      <td>20.462557</td>\n",
       "    </tr>\n",
       "    <tr>\n",
       "      <th>10</th>\n",
       "      <td>2021-11</td>\n",
       "      <td>5.05</td>\n",
       "      <td>7.374881</td>\n",
       "      <td>20.900425</td>\n",
       "    </tr>\n",
       "    <tr>\n",
       "      <th>11</th>\n",
       "      <td>2021-12</td>\n",
       "      <td>5.29</td>\n",
       "      <td>7.355108</td>\n",
       "      <td>20.891843</td>\n",
       "    </tr>\n",
       "    <tr>\n",
       "      <th>12</th>\n",
       "      <td>2022-01</td>\n",
       "      <td>5.53</td>\n",
       "      <td>7.070139</td>\n",
       "      <td>20.497771</td>\n",
       "    </tr>\n",
       "    <tr>\n",
       "      <th>13</th>\n",
       "      <td>2022-02</td>\n",
       "      <td>5.87</td>\n",
       "      <td>7.279973</td>\n",
       "      <td>20.449521</td>\n",
       "    </tr>\n",
       "    <tr>\n",
       "      <th>14</th>\n",
       "      <td>2022-03</td>\n",
       "      <td>6.31</td>\n",
       "      <td>7.453677</td>\n",
       "      <td>20.556209</td>\n",
       "    </tr>\n",
       "    <tr>\n",
       "      <th>15</th>\n",
       "      <td>2022-04</td>\n",
       "      <td>6.56</td>\n",
       "      <td>7.682503</td>\n",
       "      <td>20.108805</td>\n",
       "    </tr>\n",
       "    <tr>\n",
       "      <th>16</th>\n",
       "      <td>2022-05</td>\n",
       "      <td>6.91</td>\n",
       "      <td>7.652621</td>\n",
       "      <td>20.030527</td>\n",
       "    </tr>\n",
       "    <tr>\n",
       "      <th>17</th>\n",
       "      <td>2022-06</td>\n",
       "      <td>7.31</td>\n",
       "      <td>7.986338</td>\n",
       "      <td>20.023736</td>\n",
       "    </tr>\n",
       "    <tr>\n",
       "      <th>18</th>\n",
       "      <td>2022-07</td>\n",
       "      <td>7.76</td>\n",
       "      <td>8.150807</td>\n",
       "      <td>20.546724</td>\n",
       "    </tr>\n",
       "    <tr>\n",
       "      <th>19</th>\n",
       "      <td>2022-08</td>\n",
       "      <td>8.25</td>\n",
       "      <td>8.695423</td>\n",
       "      <td>20.120930</td>\n",
       "    </tr>\n",
       "    <tr>\n",
       "      <th>20</th>\n",
       "      <td>2022-09</td>\n",
       "      <td>8.70</td>\n",
       "      <td>8.699750</td>\n",
       "      <td>20.075024</td>\n",
       "    </tr>\n",
       "    <tr>\n",
       "      <th>21</th>\n",
       "      <td>2022-10</td>\n",
       "      <td>8.93</td>\n",
       "      <td>8.406815</td>\n",
       "      <td>19.984543</td>\n",
       "    </tr>\n",
       "    <tr>\n",
       "      <th>22</th>\n",
       "      <td>2022-11</td>\n",
       "      <td>9.42</td>\n",
       "      <td>7.796619</td>\n",
       "      <td>19.444915</td>\n",
       "    </tr>\n",
       "    <tr>\n",
       "      <th>23</th>\n",
       "      <td>2022-12</td>\n",
       "      <td>9.96</td>\n",
       "      <td>7.817029</td>\n",
       "      <td>19.592962</td>\n",
       "    </tr>\n",
       "    <tr>\n",
       "      <th>24</th>\n",
       "      <td>2023-01</td>\n",
       "      <td>10.61</td>\n",
       "      <td>7.910035</td>\n",
       "      <td>18.986336</td>\n",
       "    </tr>\n",
       "    <tr>\n",
       "      <th>25</th>\n",
       "      <td>2023-02</td>\n",
       "      <td>10.92</td>\n",
       "      <td>7.618864</td>\n",
       "      <td>18.598568</td>\n",
       "    </tr>\n",
       "    <tr>\n",
       "      <th>26</th>\n",
       "      <td>2023-03</td>\n",
       "      <td>11.23</td>\n",
       "      <td>6.849258</td>\n",
       "      <td>18.374905</td>\n",
       "    </tr>\n",
       "    <tr>\n",
       "      <th>27</th>\n",
       "      <td>2023-04</td>\n",
       "      <td>11.29</td>\n",
       "      <td>6.252845</td>\n",
       "      <td>18.085494</td>\n",
       "    </tr>\n",
       "    <tr>\n",
       "      <th>28</th>\n",
       "      <td>2023-05</td>\n",
       "      <td>11.32</td>\n",
       "      <td>5.835303</td>\n",
       "      <td>17.737300</td>\n",
       "    </tr>\n",
       "    <tr>\n",
       "      <th>29</th>\n",
       "      <td>2023-06</td>\n",
       "      <td>11.16</td>\n",
       "      <td>5.055554</td>\n",
       "      <td>17.241205</td>\n",
       "    </tr>\n",
       "    <tr>\n",
       "      <th>30</th>\n",
       "      <td>2023-07</td>\n",
       "      <td>11.22</td>\n",
       "      <td>4.785763</td>\n",
       "      <td>16.904938</td>\n",
       "    </tr>\n",
       "    <tr>\n",
       "      <th>31</th>\n",
       "      <td>2023-08</td>\n",
       "      <td>11.16</td>\n",
       "      <td>4.638014</td>\n",
       "      <td>16.976643</td>\n",
       "    </tr>\n",
       "    <tr>\n",
       "      <th>32</th>\n",
       "      <td>2023-09</td>\n",
       "      <td>11.08</td>\n",
       "      <td>4.454488</td>\n",
       "      <td>17.307690</td>\n",
       "    </tr>\n",
       "    <tr>\n",
       "      <th>33</th>\n",
       "      <td>2023-10</td>\n",
       "      <td>11.08</td>\n",
       "      <td>4.257001</td>\n",
       "      <td>18.082332</td>\n",
       "    </tr>\n",
       "    <tr>\n",
       "      <th>34</th>\n",
       "      <td>2023-11</td>\n",
       "      <td>10.89</td>\n",
       "      <td>4.323912</td>\n",
       "      <td>17.376695</td>\n",
       "    </tr>\n",
       "    <tr>\n",
       "      <th>35</th>\n",
       "      <td>2023-12</td>\n",
       "      <td>11.21</td>\n",
       "      <td>4.660890</td>\n",
       "      <td>17.185989</td>\n",
       "    </tr>\n",
       "    <tr>\n",
       "      <th>36</th>\n",
       "      <td>2024-01</td>\n",
       "      <td>11.29</td>\n",
       "      <td>4.883929</td>\n",
       "      <td>17.087318</td>\n",
       "    </tr>\n",
       "    <tr>\n",
       "      <th>37</th>\n",
       "      <td>2024-02</td>\n",
       "      <td>11.05</td>\n",
       "      <td>4.400762</td>\n",
       "      <td>17.089775</td>\n",
       "    </tr>\n",
       "    <tr>\n",
       "      <th>38</th>\n",
       "      <td>2024-03</td>\n",
       "      <td>11.02</td>\n",
       "      <td>4.420939</td>\n",
       "      <td>16.791789</td>\n",
       "    </tr>\n",
       "    <tr>\n",
       "      <th>39</th>\n",
       "      <td>2024-04</td>\n",
       "      <td>10.97</td>\n",
       "      <td>4.653210</td>\n",
       "      <td>16.810441</td>\n",
       "    </tr>\n",
       "    <tr>\n",
       "      <th>40</th>\n",
       "      <td>2024-05</td>\n",
       "      <td>10.99</td>\n",
       "      <td>4.686768</td>\n",
       "      <td>16.793564</td>\n",
       "    </tr>\n",
       "    <tr>\n",
       "      <th>41</th>\n",
       "      <td>2024-06</td>\n",
       "      <td>10.97</td>\n",
       "      <td>4.976056</td>\n",
       "      <td>18.217370</td>\n",
       "    </tr>\n",
       "    <tr>\n",
       "      <th>42</th>\n",
       "      <td>2024-07</td>\n",
       "      <td>10.92</td>\n",
       "      <td>5.566164</td>\n",
       "      <td>18.111691</td>\n",
       "    </tr>\n",
       "    <tr>\n",
       "      <th>43</th>\n",
       "      <td>2024-08</td>\n",
       "      <td>10.76</td>\n",
       "      <td>4.992860</td>\n",
       "      <td>19.151482</td>\n",
       "    </tr>\n",
       "    <tr>\n",
       "      <th>44</th>\n",
       "      <td>2024-09</td>\n",
       "      <td>10.44</td>\n",
       "      <td>4.580387</td>\n",
       "      <td>19.631630</td>\n",
       "    </tr>\n",
       "    <tr>\n",
       "      <th>45</th>\n",
       "      <td>2024-10</td>\n",
       "      <td>10.24</td>\n",
       "      <td>4.761540</td>\n",
       "      <td>19.706182</td>\n",
       "    </tr>\n",
       "    <tr>\n",
       "      <th>46</th>\n",
       "      <td>2024-11</td>\n",
       "      <td>10.05</td>\n",
       "      <td>4.548671</td>\n",
       "      <td>20.345490</td>\n",
       "    </tr>\n",
       "    <tr>\n",
       "      <th>47</th>\n",
       "      <td>2024-12</td>\n",
       "      <td>9.85</td>\n",
       "      <td>4.212339</td>\n",
       "      <td>20.266055</td>\n",
       "    </tr>\n",
       "    <tr>\n",
       "      <th>48</th>\n",
       "      <td>2025-01</td>\n",
       "      <td>9.86</td>\n",
       "      <td>3.585040</td>\n",
       "      <td>20.549018</td>\n",
       "    </tr>\n",
       "    <tr>\n",
       "      <th>49</th>\n",
       "      <td>2025-02</td>\n",
       "      <td>9.45</td>\n",
       "      <td>3.773910</td>\n",
       "      <td>20.457137</td>\n",
       "    </tr>\n",
       "  </tbody>\n",
       "</table>\n",
       "</div>"
      ],
      "text/plain": [
       "       date  tasa_de_interes  inflacion  tipo_de_cambio\n",
       "0   2021-01             4.22   3.535093       19.921475\n",
       "1   2021-02             4.12   3.759040       20.309732\n",
       "2   2021-03             4.05   4.666879       20.755450\n",
       "3   2021-04             4.07   6.084819       20.015285\n",
       "4   2021-05             4.06   5.893823       19.963129\n",
       "5   2021-06             4.02   5.878606       20.030068\n",
       "6   2021-07             4.32   5.805815       19.970109\n",
       "7   2021-08             4.46   5.592072       20.076136\n",
       "8   2021-09             4.55   6.000148       20.048690\n",
       "9   2021-10             4.84   6.239543       20.462557\n",
       "10  2021-11             5.05   7.374881       20.900425\n",
       "11  2021-12             5.29   7.355108       20.891843\n",
       "12  2022-01             5.53   7.070139       20.497771\n",
       "13  2022-02             5.87   7.279973       20.449521\n",
       "14  2022-03             6.31   7.453677       20.556209\n",
       "15  2022-04             6.56   7.682503       20.108805\n",
       "16  2022-05             6.91   7.652621       20.030527\n",
       "17  2022-06             7.31   7.986338       20.023736\n",
       "18  2022-07             7.76   8.150807       20.546724\n",
       "19  2022-08             8.25   8.695423       20.120930\n",
       "20  2022-09             8.70   8.699750       20.075024\n",
       "21  2022-10             8.93   8.406815       19.984543\n",
       "22  2022-11             9.42   7.796619       19.444915\n",
       "23  2022-12             9.96   7.817029       19.592962\n",
       "24  2023-01            10.61   7.910035       18.986336\n",
       "25  2023-02            10.92   7.618864       18.598568\n",
       "26  2023-03            11.23   6.849258       18.374905\n",
       "27  2023-04            11.29   6.252845       18.085494\n",
       "28  2023-05            11.32   5.835303       17.737300\n",
       "29  2023-06            11.16   5.055554       17.241205\n",
       "30  2023-07            11.22   4.785763       16.904938\n",
       "31  2023-08            11.16   4.638014       16.976643\n",
       "32  2023-09            11.08   4.454488       17.307690\n",
       "33  2023-10            11.08   4.257001       18.082332\n",
       "34  2023-11            10.89   4.323912       17.376695\n",
       "35  2023-12            11.21   4.660890       17.185989\n",
       "36  2024-01            11.29   4.883929       17.087318\n",
       "37  2024-02            11.05   4.400762       17.089775\n",
       "38  2024-03            11.02   4.420939       16.791789\n",
       "39  2024-04            10.97   4.653210       16.810441\n",
       "40  2024-05            10.99   4.686768       16.793564\n",
       "41  2024-06            10.97   4.976056       18.217370\n",
       "42  2024-07            10.92   5.566164       18.111691\n",
       "43  2024-08            10.76   4.992860       19.151482\n",
       "44  2024-09            10.44   4.580387       19.631630\n",
       "45  2024-10            10.24   4.761540       19.706182\n",
       "46  2024-11            10.05   4.548671       20.345490\n",
       "47  2024-12             9.85   4.212339       20.266055\n",
       "48  2025-01             9.86   3.585040       20.549018\n",
       "49  2025-02             9.45   3.773910       20.457137"
      ]
     },
     "execution_count": 18,
     "metadata": {},
     "output_type": "execute_result"
    }
   ],
   "source": [
    "df_final"
   ]
  },
  {
   "cell_type": "code",
   "execution_count": 26,
   "metadata": {},
   "outputs": [
    {
     "name": "stdout",
     "output_type": "stream",
     "text": [
      "✅ Archivo 'datos_transformados.csv' guardado localmente.\n",
      "✅ Carpeta 'transformed/' creada exitosamente en S3\n",
      "✅ Archivo 'datos_transformados.csv' subido exitosamente a S3 en transformed/datos_transformados.csv\n"
     ]
    }
   ],
   "source": [
    "# 📌 Convertir 'date' a string en formato YYYY-MM-DD antes de guardar\n",
    "df_final[\"date\"] = df_final[\"date\"].astype(str)  # Convierte Period[M] a string\n",
    "df_final[\"date\"] = pd.to_datetime(df_final[\"date\"]).dt.strftime('%Y-%m-%d')  # Asegura formato correcto\n",
    "\n",
    "# 📌 Guardar el archivo transformado localmente\n",
    "file_name = \"datos_transformados.csv\"\n",
    "df_final.to_csv(file_name, index=False)\n",
    "print(f\"✅ Archivo '{file_name}' guardado localmente.\")\n",
    "\n",
    "# 📌 Definir el bucket y carpeta en S3\n",
    "S3_BUCKET_NAME = \"banxico-hw\"\n",
    "S3_FOLDER = \"transformed/\"\n",
    "\n",
    "# 📌 Configurar el cliente de S3\n",
    "s3_client = boto3.client(\"s3\")\n",
    "\n",
    "# 📌 Intentar crear la carpeta en S3 (S3 no maneja carpetas, pero se puede simular con un objeto vacío)\n",
    "try:\n",
    "    s3_client.put_object(Bucket=S3_BUCKET_NAME, Key=f\"{S3_FOLDER}\")\n",
    "    print(f\"✅ Carpeta '{S3_FOLDER}' creada exitosamente en S3\")\n",
    "except Exception as e:\n",
    "    print(f\"❌ Error al crear la carpeta '{S3_FOLDER}' en S3: {e}\")\n",
    "\n",
    "# 📌 Subir el archivo transformado a S3\n",
    "s3_path = f\"{S3_FOLDER}{file_name}\"\n",
    "try:\n",
    "    s3_client.upload_file(file_name, S3_BUCKET_NAME, s3_path)\n",
    "    print(f\"✅ Archivo '{file_name}' subido exitosamente a S3 en {s3_path}\")\n",
    "except Exception as e:\n",
    "    print(f\"❌ Error al subir '{file_name}' a S3: {e}\")\n",
    "\n"
   ]
  },
  {
   "cell_type": "code",
   "execution_count": 27,
   "metadata": {},
   "outputs": [
    {
     "data": {
      "text/plain": [
       "date                object\n",
       "tasa_de_interes    float64\n",
       "inflacion          float64\n",
       "tipo_de_cambio     float64\n",
       "dtype: object"
      ]
     },
     "execution_count": 27,
     "metadata": {},
     "output_type": "execute_result"
    }
   ],
   "source": [
    "df_final.dtypes"
   ]
  },
  {
   "cell_type": "markdown",
   "metadata": {},
   "source": [
    "---"
   ]
  },
  {
   "cell_type": "markdown",
   "metadata": {},
   "source": [
    "## ETL INEGI -- WIP"
   ]
  },
  {
   "cell_type": "code",
   "execution_count": null,
   "metadata": {},
   "outputs": [],
   "source": [
    "# Cargar las variables de entorno desde .env\n",
    "load_dotenv()\n",
    "\n",
    "# Obtener el token\n",
    "INEGI_TOKEN = os.getenv(\"INEGI_TOKEN\")\n",
    "\n",
    "# Verificar que se cargó correctamente\n",
    "if not INEGI_TOKEN:\n",
    "    raise ValueError(\"❌ Error: INEGI_TOKEN no encontrado en .env\")\n",
    "\n",
    "print(\"✅ Token de INEGI cargado correctamente:\", INEGI_TOKEN[:10] + \"...\")\n"
   ]
  },
  {
   "cell_type": "code",
   "execution_count": null,
   "metadata": {},
   "outputs": [],
   "source": [
    "# ID del INPC Mensual en INEGI\n",
    "serie_id = \"539261\"\n",
    "\n",
    "# Construcción de la URL\n",
    "url = f\"https://www.inegi.org.mx/app/api/indicadores/desarrolladores/jsonxml/INDICATOR/{serie_id}/es/0700/true/BISE/2.0/{INEGI_TOKEN}?type=json\"\n",
    "\n",
    "# Hacer la solicitud a la API\n",
    "response = requests.get(url)\n",
    "\n",
    "# Verificar la respuesta\n",
    "if response.status_code == 200:\n",
    "    data = response.json()\n",
    "    print(\"📡 Código de respuesta:\", response.status_code)\n",
    "    print(\"🔍 Respuesta de la API:\")\n",
    "    print(json.dumps(data, indent=4)[:1000])  # Muestra los primeros 1000 caracteres\n",
    "else:\n",
    "    print(\"❌ Error en la solicitud:\", response.text)\n"
   ]
  },
  {
   "cell_type": "code",
   "execution_count": null,
   "metadata": {},
   "outputs": [],
   "source": [
    "import requests\n",
    "import json\n",
    "from dotenv import load_dotenv\n",
    "import os\n",
    "\n",
    "# Cargar el token desde .env\n",
    "load_dotenv()\n",
    "INEGI_TOKEN = os.getenv(\"INEGI_TOKEN\")\n",
    "\n",
    "# ID del INPC Mensual en INEGI\n",
    "serie_id = \"539261\"\n",
    "\n",
    "# Construcción de la URL\n",
    "url = f\"https://www.inegi.org.mx/app/api/indicadores/desarrolladores/jsonxml/INDICATOR/{serie_id}/es/0700/true/BISE/2.0/{INEGI_TOKEN}?type=json\"\n",
    "\n",
    "# Hacer la solicitud a la API\n",
    "response = requests.get(url)\n",
    "\n",
    "# Verificar la respuesta\n",
    "if response.status_code == 200:\n",
    "    data = response.json()\n",
    "    series_data = data[\"Series\"][0][\"OBSERVATIONS\"]\n",
    "    \n",
    "    print(f\"📊 Número de datos devueltos por la API: {len(series_data)}\")\n",
    "    print(\"📡 Primeros datos:\")\n",
    "    print(json.dumps(series_data[:5], indent=4))  # Muestra solo los primeros 5 valores\n",
    "else:\n",
    "    print(f\"❌ Error {response.status_code}: {response.text}\")\n"
   ]
  }
 ],
 "metadata": {
  "kernelspec": {
   "display_name": "arquitectura",
   "language": "python",
   "name": "python3"
  },
  "language_info": {
   "codemirror_mode": {
    "name": "ipython",
    "version": 3
   },
   "file_extension": ".py",
   "mimetype": "text/x-python",
   "name": "python",
   "nbconvert_exporter": "python",
   "pygments_lexer": "ipython3",
   "version": "3.11.11"
  }
 },
 "nbformat": 4,
 "nbformat_minor": 2
}
