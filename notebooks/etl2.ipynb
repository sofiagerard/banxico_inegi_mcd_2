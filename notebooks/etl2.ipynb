{
 "cells": [
  {
   "cell_type": "markdown",
   "metadata": {},
   "source": [
    "# ETL version 2"
   ]
  },
  {
   "cell_type": "code",
   "execution_count": 1,
   "metadata": {},
   "outputs": [],
   "source": [
    "import os\n",
    "import requests\n",
    "import pandas as pd\n",
    "from dotenv import load_dotenv\n",
    "from datetime import datetime\n",
    "from dateutil.relativedelta import relativedelta\n",
    "import boto3\n",
    "import json"
   ]
  },
  {
   "cell_type": "code",
   "execution_count": 2,
   "metadata": {},
   "outputs": [
    {
     "name": "stdout",
     "output_type": "stream",
     "text": [
      "✅ Token de Banxico cargado correctamente.\n"
     ]
    }
   ],
   "source": [
    "# 📌 Cargar variables de entorno\n",
    "load_dotenv()\n",
    "\n",
    "# 📌 Obtener los tokens desde .env\n",
    "BANXICO_TOKEN = os.getenv(\"BANXICO_TOKEN\")\n",
    "AWS_ACCESS_KEY = os.getenv(\"AWS_ACCESS_KEY\")\n",
    "AWS_SECRET_KEY = os.getenv(\"AWS_SECRET_KEY\")\n",
    "S3_BUCKET_NAME = os.getenv(\"S3_BUCKET_NAME\")\n",
    "\n",
    "if not BANXICO_TOKEN:\n",
    "    raise ValueError(\"❌ Error: BANXICO_TOKEN no encontrado en .env\")\n",
    "\n",
    "print(\"✅ Token de Banxico cargado correctamente.\")\n",
    "\n",
    "# 📌 Configurar fechas desde 2020 hasta hoy\n",
    "initial_date = \"2015-01-01\"\n",
    "final_date = datetime.today().strftime(\"%Y-%m-%d\")\n",
    "\n",
    "# 📌 Configurar cliente de Amazon S3\n",
    "s3_client = boto3.client(\n",
    "    \"s3\",\n",
    "    aws_access_key_id=AWS_ACCESS_KEY,\n",
    "    aws_secret_access_key=AWS_SECRET_KEY,\n",
    ")"
   ]
  },
  {
   "cell_type": "markdown",
   "metadata": {},
   "source": [
    "## Extract "
   ]
  },
  {
   "cell_type": "code",
   "execution_count": 3,
   "metadata": {},
   "outputs": [],
   "source": [
    "def extract_banxico_data(serie_id, initial_date, final_date):\n",
    "    \"\"\"\n",
    "    Extrae datos de la API de Banxico y los devuelve en un DataFrame.\n",
    "    \"\"\"\n",
    "    url = f\"https://www.banxico.org.mx/SieAPIRest/service/v1/series/{serie_id}/datos/{initial_date}/{final_date}?token={BANXICO_TOKEN}\"\n",
    "    response = requests.get(url)\n",
    "\n",
    "    if response.status_code != 200:\n",
    "        print(f\"❌ Error {response.status_code}: {response.text}\")\n",
    "        return None\n",
    "\n",
    "    data = response.json()\n",
    "    \n",
    "    if \"bmx\" not in data or \"series\" not in data[\"bmx\"] or not data[\"bmx\"][\"series\"]:\n",
    "        print(\"⚠️ No se encontraron datos en la respuesta de Banxico.\")\n",
    "        return None\n",
    "\n",
    "    series_data = data[\"bmx\"][\"series\"][0][\"datos\"]\n",
    "\n",
    "    if not series_data:\n",
    "        print(\"⚠️ No hay datos disponibles en este rango de fechas.\")\n",
    "        return None\n",
    "\n",
    "    # 📌 Convertir datos a DataFrame\n",
    "    df = pd.DataFrame(series_data)\n",
    "    df.columns = [\"timestamp\", \"value\"]\n",
    "\n",
    "    # 📌 Convertir fechas correctamente\n",
    "    df[\"timestamp\"] = pd.to_datetime(df[\"timestamp\"], format=\"%d/%m/%Y\", dayfirst=True)\n",
    "\n",
    "    # 📌 Convertir valores a numérico\n",
    "    df[\"value\"] = pd.to_numeric(df[\"value\"], errors=\"coerce\")\n",
    "\n",
    "    return df\n"
   ]
  },
  {
   "cell_type": "code",
   "execution_count": 4,
   "metadata": {},
   "outputs": [
    {
     "name": "stdout",
     "output_type": "stream",
     "text": [
      "✅ Datos guardados localmente en CSV.\n"
     ]
    }
   ],
   "source": [
    "# 📌 Extraer Tipo de Cambio\n",
    "df_tipo_cambio = extract_banxico_data(\"SF43718\", initial_date, final_date)\n",
    "df_tipo_cambio.to_csv(\"tipo_de_cambio.csv\", index=False)\n",
    "\n",
    "# 📌 Extraer Tasa de Interés\n",
    "df_tasa_interes = extract_banxico_data(\"SF282\", initial_date, final_date)\n",
    "df_tasa_interes.to_csv(\"tasa_de_interes.csv\", index=False)\n",
    "\n",
    "# 📌 Extraer INPC desde Banxico\n",
    "df_inpc = extract_banxico_data(\"SP1\", initial_date, final_date)\n",
    "df_inpc.to_csv(\"inpc.csv\", index=False)\n",
    "\n",
    "print(\"✅ Datos guardados localmente en CSV.\")\n"
   ]
  },
  {
   "cell_type": "markdown",
   "metadata": {},
   "source": [
    "---"
   ]
  },
  {
   "cell_type": "markdown",
   "metadata": {},
   "source": [
    "## Transform"
   ]
  },
  {
   "cell_type": "code",
   "execution_count": 5,
   "metadata": {},
   "outputs": [
    {
     "name": "stdout",
     "output_type": "stream",
     "text": [
      "   timestamp      value\n",
      "0 2015-01-01  87.110103\n",
      "1 2015-02-01  87.275377\n",
      "2 2015-03-01  87.630717\n",
      "3 2015-04-01  87.403840\n",
      "4 2015-05-01  86.967366\n",
      "   timestamp  value\n",
      "0 2015-01-01   2.67\n",
      "1 2015-02-01   2.81\n",
      "2 2015-03-01   3.04\n",
      "3 2015-04-01   2.97\n",
      "4 2015-05-01   2.98\n",
      "   timestamp    value\n",
      "0 2015-01-02  14.8290\n",
      "1 2015-01-05  14.9469\n",
      "2 2015-01-06  14.8479\n",
      "3 2015-01-07  14.7936\n",
      "4 2015-01-08  14.6274\n"
     ]
    }
   ],
   "source": [
    "print(df_inpc.head())\n",
    "print(df_tasa_interes.head())\n",
    "print(df_tipo_cambio.head())"
   ]
  },
  {
   "cell_type": "code",
   "execution_count": 6,
   "metadata": {},
   "outputs": [
    {
     "name": "stdout",
     "output_type": "stream",
     "text": [
      "timestamp    datetime64[ns]\n",
      "value               float64\n",
      "dtype: object\n",
      "timestamp    datetime64[ns]\n",
      "value               float64\n",
      "dtype: object\n",
      "timestamp    datetime64[ns]\n",
      "value               float64\n",
      "dtype: object\n"
     ]
    }
   ],
   "source": [
    "print(df_inpc.dtypes)\n",
    "print(df_tasa_interes.dtypes)\n",
    "print(df_tipo_cambio.dtypes)\n"
   ]
  },
  {
   "cell_type": "code",
   "execution_count": 7,
   "metadata": {},
   "outputs": [],
   "source": [
    "# 📌 Renombrar columnas para coherencia\n",
    "df_tipo_cambio.rename(columns={\"timestamp\": \"date\", \"value\": \"tipo_de_cambio\"}, inplace=True)\n",
    "df_tasa_interes.rename(columns={\"timestamp\": \"date\", \"value\": \"tasa_de_interes\"}, inplace=True)\n",
    "df_inpc.rename(columns={\"timestamp\": \"date\", \"value\": \"inpc\"}, inplace=True)"
   ]
  },
  {
   "cell_type": "code",
   "execution_count": 8,
   "metadata": {},
   "outputs": [
    {
     "name": "stdout",
     "output_type": "stream",
     "text": [
      "✅ Inflación anualizada calculada correctamente\n"
     ]
    }
   ],
   "source": [
    "# 📌 Crear la columna con el INPC rezagado 12 meses\n",
    "df_inpc[\"inpc_lag_12\"] = df_inpc[\"inpc\"].shift(12)\n",
    "\n",
    "# 📌 Calcular la inflación anualizada en porcentaje\n",
    "df_inpc[\"inflacion\"] = 100 * (df_inpc[\"inpc\"] / df_inpc[\"inpc_lag_12\"] - 1)\n",
    "\n",
    "# 📌 Eliminar filas con valores NaN (primeros 12 meses no tienen inpc_lag_12)\n",
    "df_inpc = df_inpc.dropna()\n",
    "\n",
    "print(\"✅ Inflación anualizada calculada correctamente\")"
   ]
  },
  {
   "cell_type": "code",
   "execution_count": 9,
   "metadata": {},
   "outputs": [
    {
     "name": "stdout",
     "output_type": "stream",
     "text": [
      "✅ Fechas convertidas correctamente\n",
      "✅ Fechas convertidas a nivel mensual\n"
     ]
    }
   ],
   "source": [
    "# 📌 Convertir las fechas a formato datetime estándar\n",
    "df_tipo_cambio[\"date\"] = pd.to_datetime(df_tipo_cambio[\"date\"], format=\"%Y-%m-%d\")\n",
    "df_tasa_interes[\"date\"] = pd.to_datetime(df_tasa_interes[\"date\"], format=\"%Y-%m-%d\")\n",
    "df_inpc[\"date\"] = pd.to_datetime(df_inpc[\"date\"], format=\"%Y-%m-%d\")\n",
    "\n",
    "print(\"✅ Fechas convertidas correctamente\")\n",
    "\n",
    "# 📌 Convertir las fechas a solo \"AAAA-MM\" (a nivel mensual)\n",
    "df_tipo_cambio[\"date\"] = df_tipo_cambio[\"date\"].dt.to_period(\"M\")\n",
    "df_tasa_interes[\"date\"] = df_tasa_interes[\"date\"].dt.to_period(\"M\")\n",
    "df_inpc[\"date\"] = df_inpc[\"date\"].dt.to_period(\"M\")\n",
    "\n",
    "print(\"✅ Fechas convertidas a nivel mensual\")\n"
   ]
  },
  {
   "cell_type": "code",
   "execution_count": 10,
   "metadata": {},
   "outputs": [
    {
     "name": "stdout",
     "output_type": "stream",
     "text": [
      "✅ Tipo de cambio agregado a nivel mensual\n"
     ]
    }
   ],
   "source": [
    "# 📌 Para el tipo de cambio, tomamos el promedio mensual\n",
    "df_tipo_cambio = df_tipo_cambio.groupby(\"date\").agg({\"tipo_de_cambio\": \"mean\"}).reset_index()\n",
    "\n",
    "print(\"✅ Tipo de cambio agregado a nivel mensual\")"
   ]
  },
  {
   "cell_type": "code",
   "execution_count": 12,
   "metadata": {},
   "outputs": [
    {
     "data": {
      "application/vnd.microsoft.datawrangler.viewer.v0+json": {
       "columns": [
        {
         "name": "index",
         "rawType": "int64",
         "type": "integer"
        },
        {
         "name": "date",
         "rawType": "period[M]",
         "type": "unknown"
        },
        {
         "name": "inpc",
         "rawType": "float64",
         "type": "float"
        },
        {
         "name": "inpc_lag_12",
         "rawType": "float64",
         "type": "float"
        },
        {
         "name": "inflacion",
         "rawType": "float64",
         "type": "float"
        }
       ],
       "conversionMethod": "pd.DataFrame",
       "ref": "c862bae7-9def-4d60-8463-eb908528d36f",
       "rows": [
        [
         "12",
         "2016-01",
         "89.386381",
         "87.110103",
         "2.6131044753787025"
        ],
        [
         "13",
         "2016-02",
         "89.777781",
         "87.275377",
         "2.86725086274906"
        ],
        [
         "14",
         "2016-03",
         "89.910001",
         "87.630717",
         "2.601010328376052"
        ],
        [
         "15",
         "2016-04",
         "89.625278",
         "87.40384",
         "2.5415794088680776"
        ],
        [
         "16",
         "2016-05",
         "89.225615",
         "86.967366",
         "2.5966625228134532"
        ],
        [
         "17",
         "2016-06",
         "89.324028",
         "87.113108",
         "2.5379877388831185"
        ],
        [
         "18",
         "2016-07",
         "89.556914",
         "87.24082",
         "2.6548283246306204"
        ],
        [
         "19",
         "2016-08",
         "89.809333",
         "87.424875",
         "2.727436556243279"
        ],
        [
         "20",
         "2016-09",
         "90.357744",
         "87.752419",
         "2.968949494144413"
        ],
        [
         "21",
         "2016-10",
         "90.906154",
         "88.203919",
         "3.0636223771417725"
        ],
        [
         "22",
         "2016-11",
         "91.616834",
         "88.685468",
         "3.305350996174483"
        ],
        [
         "23",
         "2016-12",
         "92.039035",
         "89.046818",
         "3.360273917929324"
        ],
        [
         "24",
         "2017-01",
         "93.603882",
         "89.386381",
         "4.7182814124670625"
        ],
        [
         "25",
         "2017-02",
         "94.14478",
         "89.777781",
         "4.86423138482337"
        ],
        [
         "26",
         "2017-03",
         "94.722489",
         "89.910001",
         "5.352561390806798"
        ],
        [
         "27",
         "2017-04",
         "94.838933",
         "89.625278",
         "5.817170240743907"
        ],
        [
         "28",
         "2017-05",
         "94.725494",
         "89.225615",
         "6.1640135514896555"
        ],
        [
         "29",
         "2017-06",
         "94.96364",
         "89.324028",
         "6.313656164274195"
        ],
        [
         "30",
         "2017-07",
         "95.322736",
         "89.556914",
         "6.438165120339012"
        ],
        [
         "31",
         "2017-08",
         "95.793768",
         "89.809333",
         "6.663488971686271"
        ],
        [
         "32",
         "2017-09",
         "96.093515",
         "90.357744",
         "6.3478466217571805"
        ],
        [
         "33",
         "2017-10",
         "96.698269",
         "90.906154",
         "6.37153233872374"
        ],
        [
         "34",
         "2017-11",
         "97.695174",
         "91.616834",
         "6.634523083388788"
        ],
        [
         "35",
         "2017-12",
         "98.272883",
         "92.039035",
         "6.773047979044966"
        ],
        [
         "36",
         "2018-01",
         "98.794999699501",
         "93.603882",
         "5.545835908281038"
        ],
        [
         "37",
         "2018-02",
         "99.17137448164",
         "94.14478",
         "5.3392174071042575"
        ],
        [
         "38",
         "2018-03",
         "99.492156980588",
         "94.722489",
         "5.035412425224606"
        ],
        [
         "39",
         "2018-04",
         "99.154847046097",
         "94.838933",
         "4.550783006064618"
        ],
        [
         "40",
         "2018-05",
         "98.994080173087",
         "94.725494",
         "4.506269635381366"
        ],
        [
         "41",
         "2018-06",
         "99.376464931787",
         "94.96364",
         "4.646857399091897"
        ],
        [
         "42",
         "2018-07",
         "99.909099104514",
         "95.322736",
         "4.811405229193166"
        ],
        [
         "43",
         "2018-08",
         "100.492",
         "95.793768",
         "4.904527818552884"
        ],
        [
         "44",
         "2018-09",
         "100.917",
         "96.093515",
         "5.019573901527075"
        ],
        [
         "45",
         "2018-10",
         "101.44",
         "96.698269",
         "4.903635865498268"
        ],
        [
         "46",
         "2018-11",
         "102.303",
         "97.695174",
         "4.716533899617192"
        ],
        [
         "47",
         "2018-12",
         "103.02",
         "98.272883",
         "4.830546184342643"
        ],
        [
         "48",
         "2019-01",
         "103.108",
         "98.794999699501",
         "4.365605864282207"
        ],
        [
         "49",
         "2019-02",
         "103.079",
         "99.17137448164",
         "3.9402756478719825"
        ],
        [
         "50",
         "2019-03",
         "103.476",
         "99.492156980588",
         "4.004177957654775"
        ],
        [
         "51",
         "2019-04",
         "103.531",
         "99.154847046097",
         "4.4134533855602065"
        ],
        [
         "52",
         "2019-05",
         "103.233",
         "98.994080173087",
         "4.281993245961213"
        ],
        [
         "53",
         "2019-06",
         "103.299",
         "99.376464931787",
         "3.947146913412025"
        ],
        [
         "54",
         "2019-07",
         "103.687",
         "99.909099104514",
         "3.7813381657400003"
        ],
        [
         "55",
         "2019-08",
         "103.67",
         "100.492",
         "3.1624407913067643"
        ],
        [
         "56",
         "2019-09",
         "103.942",
         "100.917",
         "2.997512807554714"
        ],
        [
         "57",
         "2019-10",
         "104.503",
         "101.44",
         "3.0195189274447864"
        ],
        [
         "58",
         "2019-11",
         "105.346",
         "102.303",
         "2.9744973265691144"
        ],
        [
         "59",
         "2019-12",
         "105.934",
         "103.02",
         "2.828576975344599"
        ],
        [
         "60",
         "2020-01",
         "106.447",
         "103.108",
         "3.2383520192419635"
        ],
        [
         "61",
         "2020-02",
         "106.889",
         "103.079",
         "3.696194181162027"
        ]
       ],
       "shape": {
        "columns": 4,
        "rows": 110
       }
      },
      "text/html": [
       "<div>\n",
       "<style scoped>\n",
       "    .dataframe tbody tr th:only-of-type {\n",
       "        vertical-align: middle;\n",
       "    }\n",
       "\n",
       "    .dataframe tbody tr th {\n",
       "        vertical-align: top;\n",
       "    }\n",
       "\n",
       "    .dataframe thead th {\n",
       "        text-align: right;\n",
       "    }\n",
       "</style>\n",
       "<table border=\"1\" class=\"dataframe\">\n",
       "  <thead>\n",
       "    <tr style=\"text-align: right;\">\n",
       "      <th></th>\n",
       "      <th>date</th>\n",
       "      <th>inpc</th>\n",
       "      <th>inpc_lag_12</th>\n",
       "      <th>inflacion</th>\n",
       "    </tr>\n",
       "  </thead>\n",
       "  <tbody>\n",
       "    <tr>\n",
       "      <th>12</th>\n",
       "      <td>2016-01</td>\n",
       "      <td>89.386381</td>\n",
       "      <td>87.110103</td>\n",
       "      <td>2.613104</td>\n",
       "    </tr>\n",
       "    <tr>\n",
       "      <th>13</th>\n",
       "      <td>2016-02</td>\n",
       "      <td>89.777781</td>\n",
       "      <td>87.275377</td>\n",
       "      <td>2.867251</td>\n",
       "    </tr>\n",
       "    <tr>\n",
       "      <th>14</th>\n",
       "      <td>2016-03</td>\n",
       "      <td>89.910001</td>\n",
       "      <td>87.630717</td>\n",
       "      <td>2.601010</td>\n",
       "    </tr>\n",
       "    <tr>\n",
       "      <th>15</th>\n",
       "      <td>2016-04</td>\n",
       "      <td>89.625278</td>\n",
       "      <td>87.403840</td>\n",
       "      <td>2.541579</td>\n",
       "    </tr>\n",
       "    <tr>\n",
       "      <th>16</th>\n",
       "      <td>2016-05</td>\n",
       "      <td>89.225615</td>\n",
       "      <td>86.967366</td>\n",
       "      <td>2.596663</td>\n",
       "    </tr>\n",
       "    <tr>\n",
       "      <th>...</th>\n",
       "      <td>...</td>\n",
       "      <td>...</td>\n",
       "      <td>...</td>\n",
       "      <td>...</td>\n",
       "    </tr>\n",
       "    <tr>\n",
       "      <th>117</th>\n",
       "      <td>2024-10</td>\n",
       "      <td>136.828000</td>\n",
       "      <td>130.609000</td>\n",
       "      <td>4.761540</td>\n",
       "    </tr>\n",
       "    <tr>\n",
       "      <th>118</th>\n",
       "      <td>2024-11</td>\n",
       "      <td>137.424000</td>\n",
       "      <td>131.445000</td>\n",
       "      <td>4.548671</td>\n",
       "    </tr>\n",
       "    <tr>\n",
       "      <th>119</th>\n",
       "      <td>2024-12</td>\n",
       "      <td>137.949000</td>\n",
       "      <td>132.373000</td>\n",
       "      <td>4.212339</td>\n",
       "    </tr>\n",
       "    <tr>\n",
       "      <th>120</th>\n",
       "      <td>2025-01</td>\n",
       "      <td>138.343000</td>\n",
       "      <td>133.555000</td>\n",
       "      <td>3.585040</td>\n",
       "    </tr>\n",
       "    <tr>\n",
       "      <th>121</th>\n",
       "      <td>2025-02</td>\n",
       "      <td>138.726000</td>\n",
       "      <td>133.681000</td>\n",
       "      <td>3.773910</td>\n",
       "    </tr>\n",
       "  </tbody>\n",
       "</table>\n",
       "<p>110 rows × 4 columns</p>\n",
       "</div>"
      ],
      "text/plain": [
       "        date        inpc  inpc_lag_12  inflacion\n",
       "12   2016-01   89.386381    87.110103   2.613104\n",
       "13   2016-02   89.777781    87.275377   2.867251\n",
       "14   2016-03   89.910001    87.630717   2.601010\n",
       "15   2016-04   89.625278    87.403840   2.541579\n",
       "16   2016-05   89.225615    86.967366   2.596663\n",
       "..       ...         ...          ...        ...\n",
       "117  2024-10  136.828000   130.609000   4.761540\n",
       "118  2024-11  137.424000   131.445000   4.548671\n",
       "119  2024-12  137.949000   132.373000   4.212339\n",
       "120  2025-01  138.343000   133.555000   3.585040\n",
       "121  2025-02  138.726000   133.681000   3.773910\n",
       "\n",
       "[110 rows x 4 columns]"
      ]
     },
     "execution_count": 12,
     "metadata": {},
     "output_type": "execute_result"
    }
   ],
   "source": [
    "df_inpc"
   ]
  },
  {
   "cell_type": "code",
   "execution_count": 13,
   "metadata": {},
   "outputs": [
    {
     "data": {
      "application/vnd.microsoft.datawrangler.viewer.v0+json": {
       "columns": [
        {
         "name": "index",
         "rawType": "int64",
         "type": "integer"
        },
        {
         "name": "date",
         "rawType": "period[M]",
         "type": "unknown"
        },
        {
         "name": "tasa_de_interes",
         "rawType": "float64",
         "type": "float"
        }
       ],
       "conversionMethod": "pd.DataFrame",
       "ref": "1df8f868-7bed-47eb-b883-41325b076214",
       "rows": [
        [
         "0",
         "2015-01",
         "2.67"
        ],
        [
         "1",
         "2015-02",
         "2.81"
        ],
        [
         "2",
         "2015-03",
         "3.04"
        ],
        [
         "3",
         "2015-04",
         "2.97"
        ],
        [
         "4",
         "2015-05",
         "2.98"
        ],
        [
         "5",
         "2015-06",
         "2.96"
        ],
        [
         "6",
         "2015-07",
         "2.99"
        ],
        [
         "7",
         "2015-08",
         "3.04"
        ],
        [
         "8",
         "2015-09",
         "3.1"
        ],
        [
         "9",
         "2015-10",
         "3.02"
        ],
        [
         "10",
         "2015-11",
         "3.02"
        ],
        [
         "11",
         "2015-12",
         "3.14"
        ],
        [
         "12",
         "2016-01",
         "3.08"
        ],
        [
         "13",
         "2016-02",
         "3.36"
        ],
        [
         "14",
         "2016-03",
         "3.8"
        ],
        [
         "15",
         "2016-04",
         "3.74"
        ],
        [
         "16",
         "2016-05",
         "3.81"
        ],
        [
         "17",
         "2016-06",
         "3.81"
        ],
        [
         "18",
         "2016-07",
         "4.21"
        ],
        [
         "19",
         "2016-08",
         "4.24"
        ],
        [
         "20",
         "2016-09",
         "4.28"
        ],
        [
         "21",
         "2016-10",
         "4.69"
        ],
        [
         "22",
         "2016-11",
         "5.15"
        ],
        [
         "23",
         "2016-12",
         "5.61"
        ],
        [
         "24",
         "2017-01",
         "5.83"
        ],
        [
         "25",
         "2017-02",
         "6.06"
        ],
        [
         "26",
         "2017-03",
         "6.32"
        ],
        [
         "27",
         "2017-04",
         "6.5"
        ],
        [
         "28",
         "2017-05",
         "6.56"
        ],
        [
         "29",
         "2017-06",
         "6.82"
        ],
        [
         "30",
         "2017-07",
         "6.99"
        ],
        [
         "31",
         "2017-08",
         "6.94"
        ],
        [
         "32",
         "2017-09",
         "6.99"
        ],
        [
         "33",
         "2017-10",
         "7.03"
        ],
        [
         "34",
         "2017-11",
         "7.02"
        ],
        [
         "35",
         "2017-12",
         "7.17"
        ],
        [
         "36",
         "2018-01",
         "7.25"
        ],
        [
         "37",
         "2018-02",
         "7.4"
        ],
        [
         "38",
         "2018-03",
         "7.47"
        ],
        [
         "39",
         "2018-04",
         "7.46"
        ],
        [
         "40",
         "2018-05",
         "7.51"
        ],
        [
         "41",
         "2018-06",
         "7.64"
        ],
        [
         "42",
         "2018-07",
         "7.73"
        ],
        [
         "43",
         "2018-08",
         "7.73"
        ],
        [
         "44",
         "2018-09",
         "7.69"
        ],
        [
         "45",
         "2018-10",
         "7.69"
        ],
        [
         "46",
         "2018-11",
         "7.83"
        ],
        [
         "47",
         "2018-12",
         "8.02"
        ],
        [
         "48",
         "2019-01",
         "7.95"
        ],
        [
         "49",
         "2019-02",
         "7.93"
        ]
       ],
       "shape": {
        "columns": 2,
        "rows": 122
       }
      },
      "text/html": [
       "<div>\n",
       "<style scoped>\n",
       "    .dataframe tbody tr th:only-of-type {\n",
       "        vertical-align: middle;\n",
       "    }\n",
       "\n",
       "    .dataframe tbody tr th {\n",
       "        vertical-align: top;\n",
       "    }\n",
       "\n",
       "    .dataframe thead th {\n",
       "        text-align: right;\n",
       "    }\n",
       "</style>\n",
       "<table border=\"1\" class=\"dataframe\">\n",
       "  <thead>\n",
       "    <tr style=\"text-align: right;\">\n",
       "      <th></th>\n",
       "      <th>date</th>\n",
       "      <th>tasa_de_interes</th>\n",
       "    </tr>\n",
       "  </thead>\n",
       "  <tbody>\n",
       "    <tr>\n",
       "      <th>0</th>\n",
       "      <td>2015-01</td>\n",
       "      <td>2.67</td>\n",
       "    </tr>\n",
       "    <tr>\n",
       "      <th>1</th>\n",
       "      <td>2015-02</td>\n",
       "      <td>2.81</td>\n",
       "    </tr>\n",
       "    <tr>\n",
       "      <th>2</th>\n",
       "      <td>2015-03</td>\n",
       "      <td>3.04</td>\n",
       "    </tr>\n",
       "    <tr>\n",
       "      <th>3</th>\n",
       "      <td>2015-04</td>\n",
       "      <td>2.97</td>\n",
       "    </tr>\n",
       "    <tr>\n",
       "      <th>4</th>\n",
       "      <td>2015-05</td>\n",
       "      <td>2.98</td>\n",
       "    </tr>\n",
       "    <tr>\n",
       "      <th>...</th>\n",
       "      <td>...</td>\n",
       "      <td>...</td>\n",
       "    </tr>\n",
       "    <tr>\n",
       "      <th>117</th>\n",
       "      <td>2024-10</td>\n",
       "      <td>10.24</td>\n",
       "    </tr>\n",
       "    <tr>\n",
       "      <th>118</th>\n",
       "      <td>2024-11</td>\n",
       "      <td>10.05</td>\n",
       "    </tr>\n",
       "    <tr>\n",
       "      <th>119</th>\n",
       "      <td>2024-12</td>\n",
       "      <td>9.85</td>\n",
       "    </tr>\n",
       "    <tr>\n",
       "      <th>120</th>\n",
       "      <td>2025-01</td>\n",
       "      <td>9.86</td>\n",
       "    </tr>\n",
       "    <tr>\n",
       "      <th>121</th>\n",
       "      <td>2025-02</td>\n",
       "      <td>9.45</td>\n",
       "    </tr>\n",
       "  </tbody>\n",
       "</table>\n",
       "<p>122 rows × 2 columns</p>\n",
       "</div>"
      ],
      "text/plain": [
       "        date  tasa_de_interes\n",
       "0    2015-01             2.67\n",
       "1    2015-02             2.81\n",
       "2    2015-03             3.04\n",
       "3    2015-04             2.97\n",
       "4    2015-05             2.98\n",
       "..       ...              ...\n",
       "117  2024-10            10.24\n",
       "118  2024-11            10.05\n",
       "119  2024-12             9.85\n",
       "120  2025-01             9.86\n",
       "121  2025-02             9.45\n",
       "\n",
       "[122 rows x 2 columns]"
      ]
     },
     "execution_count": 13,
     "metadata": {},
     "output_type": "execute_result"
    }
   ],
   "source": [
    "df_tasa_interes"
   ]
  },
  {
   "cell_type": "code",
   "execution_count": 14,
   "metadata": {},
   "outputs": [
    {
     "data": {
      "application/vnd.microsoft.datawrangler.viewer.v0+json": {
       "columns": [
        {
         "name": "index",
         "rawType": "int64",
         "type": "integer"
        },
        {
         "name": "date",
         "rawType": "period[M]",
         "type": "unknown"
        },
        {
         "name": "tipo_de_cambio",
         "rawType": "float64",
         "type": "float"
        }
       ],
       "conversionMethod": "pd.DataFrame",
       "ref": "fc84d49b-1878-4458-b0ee-9a2e410a0bfe",
       "rows": [
        [
         "0",
         "2015-01",
         "14.692585714285716"
        ],
        [
         "1",
         "2015-02",
         "14.921342105263157"
        ],
        [
         "2",
         "2015-03",
         "15.228338095238096"
        ],
        [
         "3",
         "2015-04",
         "15.22618"
        ],
        [
         "4",
         "2015-05",
         "15.26447"
        ],
        [
         "5",
         "2015-06",
         "15.483036363636364"
        ],
        [
         "6",
         "2015-07",
         "15.939582608695654"
        ],
        [
         "7",
         "2015-08",
         "16.536757142857144"
        ],
        [
         "8",
         "2015-09",
         "16.857761904761908"
        ],
        [
         "9",
         "2015-10",
         "16.564004545454544"
        ],
        [
         "10",
         "2015-11",
         "16.63568947368421"
        ],
        [
         "11",
         "2015-12",
         "17.066622727272726"
        ],
        [
         "12",
         "2016-01",
         "18.072775"
        ],
        [
         "13",
         "2016-02",
         "18.4731"
        ],
        [
         "14",
         "2016-03",
         "17.649045"
        ],
        [
         "15",
         "2016-04",
         "17.48767619047619"
        ],
        [
         "16",
         "2016-05",
         "18.154186363636367"
        ],
        [
         "17",
         "2016-06",
         "18.65296818181818"
        ],
        [
         "18",
         "2016-07",
         "18.601442857142857"
        ],
        [
         "19",
         "2016-08",
         "18.474865217391304"
        ],
        [
         "20",
         "2016-09",
         "19.192409523809523"
        ],
        [
         "21",
         "2016-10",
         "18.892414285714285"
        ],
        [
         "22",
         "2016-11",
         "20.118465"
        ],
        [
         "23",
         "2016-12",
         "20.52057619047619"
        ],
        [
         "24",
         "2017-01",
         "21.385272727272728"
        ],
        [
         "25",
         "2017-02",
         "20.29053684210526"
        ],
        [
         "26",
         "2017-03",
         "19.30102727272727"
        ],
        [
         "27",
         "2017-04",
         "18.78748333333333"
        ],
        [
         "28",
         "2017-05",
         "18.755663636363636"
        ],
        [
         "29",
         "2017-06",
         "18.132613636363637"
        ],
        [
         "30",
         "2017-07",
         "17.828338095238095"
        ],
        [
         "31",
         "2017-08",
         "17.807030434782607"
        ],
        [
         "32",
         "2017-09",
         "17.835652380952382"
        ],
        [
         "33",
         "2017-10",
         "18.816095454545454"
        ],
        [
         "34",
         "2017-11",
         "18.915785"
        ],
        [
         "35",
         "2017-12",
         "19.181221052631578"
        ],
        [
         "36",
         "2018-01",
         "18.90739090909091"
        ],
        [
         "37",
         "2018-02",
         "18.644936842105263"
        ],
        [
         "38",
         "2018-03",
         "18.630842105263156"
        ],
        [
         "39",
         "2018-04",
         "18.387185714285714"
        ],
        [
         "40",
         "2018-05",
         "19.590995454545453"
        ],
        [
         "41",
         "2018-06",
         "20.3032"
        ],
        [
         "42",
         "2018-07",
         "19.009518181818184"
        ],
        [
         "43",
         "2018-08",
         "18.85750869565217"
        ],
        [
         "44",
         "2018-09",
         "19.015430000000002"
        ],
        [
         "45",
         "2018-10",
         "19.185865217391303"
        ],
        [
         "46",
         "2018-11",
         "20.26117"
        ],
        [
         "47",
         "2018-12",
         "20.11117894736842"
        ],
        [
         "48",
         "2019-01",
         "19.1651"
        ],
        [
         "49",
         "2019-02",
         "19.20487894736842"
        ]
       ],
       "shape": {
        "columns": 2,
        "rows": 123
       }
      },
      "text/html": [
       "<div>\n",
       "<style scoped>\n",
       "    .dataframe tbody tr th:only-of-type {\n",
       "        vertical-align: middle;\n",
       "    }\n",
       "\n",
       "    .dataframe tbody tr th {\n",
       "        vertical-align: top;\n",
       "    }\n",
       "\n",
       "    .dataframe thead th {\n",
       "        text-align: right;\n",
       "    }\n",
       "</style>\n",
       "<table border=\"1\" class=\"dataframe\">\n",
       "  <thead>\n",
       "    <tr style=\"text-align: right;\">\n",
       "      <th></th>\n",
       "      <th>date</th>\n",
       "      <th>tipo_de_cambio</th>\n",
       "    </tr>\n",
       "  </thead>\n",
       "  <tbody>\n",
       "    <tr>\n",
       "      <th>0</th>\n",
       "      <td>2015-01</td>\n",
       "      <td>14.692586</td>\n",
       "    </tr>\n",
       "    <tr>\n",
       "      <th>1</th>\n",
       "      <td>2015-02</td>\n",
       "      <td>14.921342</td>\n",
       "    </tr>\n",
       "    <tr>\n",
       "      <th>2</th>\n",
       "      <td>2015-03</td>\n",
       "      <td>15.228338</td>\n",
       "    </tr>\n",
       "    <tr>\n",
       "      <th>3</th>\n",
       "      <td>2015-04</td>\n",
       "      <td>15.226180</td>\n",
       "    </tr>\n",
       "    <tr>\n",
       "      <th>4</th>\n",
       "      <td>2015-05</td>\n",
       "      <td>15.264470</td>\n",
       "    </tr>\n",
       "    <tr>\n",
       "      <th>...</th>\n",
       "      <td>...</td>\n",
       "      <td>...</td>\n",
       "    </tr>\n",
       "    <tr>\n",
       "      <th>118</th>\n",
       "      <td>2024-11</td>\n",
       "      <td>20.345490</td>\n",
       "    </tr>\n",
       "    <tr>\n",
       "      <th>119</th>\n",
       "      <td>2024-12</td>\n",
       "      <td>20.266055</td>\n",
       "    </tr>\n",
       "    <tr>\n",
       "      <th>120</th>\n",
       "      <td>2025-01</td>\n",
       "      <td>20.549018</td>\n",
       "    </tr>\n",
       "    <tr>\n",
       "      <th>121</th>\n",
       "      <td>2025-02</td>\n",
       "      <td>20.457137</td>\n",
       "    </tr>\n",
       "    <tr>\n",
       "      <th>122</th>\n",
       "      <td>2025-03</td>\n",
       "      <td>20.271591</td>\n",
       "    </tr>\n",
       "  </tbody>\n",
       "</table>\n",
       "<p>123 rows × 2 columns</p>\n",
       "</div>"
      ],
      "text/plain": [
       "        date  tipo_de_cambio\n",
       "0    2015-01       14.692586\n",
       "1    2015-02       14.921342\n",
       "2    2015-03       15.228338\n",
       "3    2015-04       15.226180\n",
       "4    2015-05       15.264470\n",
       "..       ...             ...\n",
       "118  2024-11       20.345490\n",
       "119  2024-12       20.266055\n",
       "120  2025-01       20.549018\n",
       "121  2025-02       20.457137\n",
       "122  2025-03       20.271591\n",
       "\n",
       "[123 rows x 2 columns]"
      ]
     },
     "execution_count": 14,
     "metadata": {},
     "output_type": "execute_result"
    }
   ],
   "source": [
    "df_tipo_cambio"
   ]
  },
  {
   "cell_type": "code",
   "execution_count": 22,
   "metadata": {},
   "outputs": [
    {
     "name": "stdout",
     "output_type": "stream",
     "text": [
      "date            object\n",
      "inpc           float64\n",
      "inpc_lag_12    float64\n",
      "inflacion      float64\n",
      "dtype: object\n",
      "date                object\n",
      "tasa_de_interes    float64\n",
      "dtype: object\n",
      "date               object\n",
      "tipo_de_cambio    float64\n",
      "dtype: object\n"
     ]
    }
   ],
   "source": [
    "# Convertir 'date' de period[M] a datetime64 en cada DataFrame\n",
    "df_inpc[\"date\"] = df_inpc[\"date\"].dt.to_timestamp()\n",
    "df_tasa_interes[\"date\"] = df_tasa_interes[\"date\"].dt.to_timestamp()\n",
    "df_tipo_cambio[\"date\"] = df_tipo_cambio[\"date\"].dt.to_timestamp()\n",
    "\n",
    "# Asegurar que el formato sea YYYY-MM-DD\n",
    "df_inpc[\"date\"] = df_inpc[\"date\"].dt.strftime('%Y-%m-%d')\n",
    "df_tasa_interes[\"date\"] = df_tasa_interes[\"date\"].dt.strftime('%Y-%m-%d')\n",
    "df_tipo_cambio[\"date\"] = df_tipo_cambio[\"date\"].dt.strftime('%Y-%m-%d')\n",
    "\n",
    "# Verificar cambios\n",
    "print(df_inpc.dtypes)\n",
    "print(df_tasa_interes.dtypes)\n",
    "print(df_tipo_cambio.dtypes)\n"
   ]
  },
  {
   "cell_type": "code",
   "execution_count": 23,
   "metadata": {},
   "outputs": [
    {
     "name": "stdout",
     "output_type": "stream",
     "text": [
      "date           datetime64[ns]\n",
      "inpc                  float64\n",
      "inpc_lag_12           float64\n",
      "inflacion             float64\n",
      "dtype: object\n",
      "date               datetime64[ns]\n",
      "tasa_de_interes           float64\n",
      "dtype: object\n",
      "date              datetime64[ns]\n",
      "tipo_de_cambio           float64\n",
      "dtype: object\n"
     ]
    }
   ],
   "source": [
    "# Convertir a datetime64 antes de exportar\n",
    "df_inpc[\"date\"] = pd.to_datetime(df_inpc[\"date\"])\n",
    "df_tasa_interes[\"date\"] = pd.to_datetime(df_tasa_interes[\"date\"])\n",
    "df_tipo_cambio[\"date\"] = pd.to_datetime(df_tipo_cambio[\"date\"])\n",
    "\n",
    "# Verificar cambios\n",
    "print(df_inpc.dtypes)\n",
    "print(df_tasa_interes.dtypes)\n",
    "print(df_tipo_cambio.dtypes)\n"
   ]
  },
  {
   "cell_type": "markdown",
   "metadata": {},
   "source": [
    "---"
   ]
  },
  {
   "cell_type": "markdown",
   "metadata": {},
   "source": [
    "## Load "
   ]
  },
  {
   "cell_type": "code",
   "execution_count": 16,
   "metadata": {},
   "outputs": [
    {
     "name": "stdout",
     "output_type": "stream",
     "text": [
      "✅ Datos guardados localmente en CSV.\n"
     ]
    }
   ],
   "source": [
    "# Guardar en local\n",
    "df_inpc.to_csv(\"inpc_mensual.csv\", index=False)\n",
    "df_tasa_interes.to_csv(\"tasa_interes_mensual.csv\", index=False)\n",
    "df_tipo_cambio.to_csv(\"tipo_cambio_mensual.csv\", index=False)\n",
    "\n",
    "print(\"✅ Datos guardados localmente en CSV.\")\n"
   ]
  },
  {
   "cell_type": "code",
   "execution_count": 17,
   "metadata": {},
   "outputs": [
    {
     "name": "stdout",
     "output_type": "stream",
     "text": [
      "✅ Bucket encontrado: arquitectura-athena-queries-sofia\n",
      "✅ Bucket encontrado: banxico-hw\n",
      "✅ Bucket encontrado: itam-analytics-sofia\n",
      "✅ Bucket encontrado: sofia-temp-flights\n"
     ]
    }
   ],
   "source": [
    "# 📌 Guardar en S3\n",
    "s3_client = boto3.client(\"s3\")\n",
    "\n",
    "# Probar conexión\n",
    "response = s3_client.list_buckets()\n",
    "for bucket in response[\"Buckets\"]:\n",
    "    print(f\"✅ Bucket encontrado: {bucket['Name']}\")\n",
    "# 📌 Probar conexión\n",
    "try:\n",
    "    response = s3_client.list_objects_v2(Bucket=\"banxico-hw\", Prefix=\"raw/\")\n",
    "    for obj in response.get(\"Contents\", []):\n",
    "        print(f\"📂 Archivo en S3: {obj['Key']} - Tamaño: {obj['Size']} bytes\")\n",
    "except Exception as e:\n",
    "    print(f\"❌ Error al conectar con S3: {e}\")"
   ]
  },
  {
   "cell_type": "code",
   "execution_count": 20,
   "metadata": {},
   "outputs": [
    {
     "name": "stdout",
     "output_type": "stream",
     "text": [
      "✅ Archivo tipo_cambio_mensual.csv subido a S3 en tipo_de_cambio/tipo_cambio_mensual.csv\n",
      "✅ Archivo tasa_interes_mensual.csv subido a S3 en tasa_de_interes/tasa_interes_mensual.csv\n",
      "✅ Archivo inpc_mensual.csv subido a S3 en inflacion/inpc_mensual.csv\n",
      "✅ Todos los archivos han sido subidos a S3 en la carpeta 'raw/'.\n"
     ]
    }
   ],
   "source": [
    "def upload_to_s3(file_name, bucket, folder):\n",
    "    \"\"\"\n",
    "    Sube un archivo local a Amazon S3 en la carpeta especificada.\n",
    "    \"\"\"\n",
    "    object_name = f\"{folder}/{file_name}\"\n",
    "    try:\n",
    "        s3_client.upload_file(file_name, bucket, object_name)\n",
    "        print(f\"✅ Archivo {file_name} subido a S3 en {object_name}\")\n",
    "    except Exception as e:\n",
    "        print(f\"❌ Error al subir {file_name}: {e}\")\n",
    "\n",
    "# 📌 Subir los archivos a S3\n",
    "upload_to_s3(\"tipo_cambio_mensual.csv\", \"banxico-hw\", \"tipo_de_cambio\")\n",
    "upload_to_s3(\"tasa_interes_mensual.csv\", \"banxico-hw\", \"tasa_de_interes\")\n",
    "upload_to_s3(\"inpc_mensual.csv\", \"banxico-hw\", \"inflacion\")\n",
    "\n",
    "print(\"✅ Todos los archivos han sido subidos a S3 en la carpeta 'raw/'.\")\n"
   ]
  }
 ],
 "metadata": {
  "kernelspec": {
   "display_name": "arquitectura",
   "language": "python",
   "name": "python3"
  },
  "language_info": {
   "codemirror_mode": {
    "name": "ipython",
    "version": 3
   },
   "file_extension": ".py",
   "mimetype": "text/x-python",
   "name": "python",
   "nbconvert_exporter": "python",
   "pygments_lexer": "ipython3",
   "version": "3.11.11"
  }
 },
 "nbformat": 4,
 "nbformat_minor": 2
}
