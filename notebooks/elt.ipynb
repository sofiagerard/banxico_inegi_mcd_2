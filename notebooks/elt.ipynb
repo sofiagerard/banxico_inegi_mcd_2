{
 "cells": [
  {
   "cell_type": "markdown",
   "metadata": {},
   "source": [
    "## ELT "
   ]
  },
  {
   "cell_type": "code",
   "execution_count": 1,
   "metadata": {},
   "outputs": [],
   "source": [
    "import os\n",
    "import requests\n",
    "import pandas as pd\n",
    "from dotenv import load_dotenv\n",
    "import boto3\n",
    "import json\n",
    "import time\n",
    "from io import StringIO\n"
   ]
  },
  {
   "cell_type": "code",
   "execution_count": 2,
   "metadata": {},
   "outputs": [],
   "source": [
    "# Configurar cliente de Athena y S3\n",
    "athena_client = boto3.client(\"athena\")\n",
    "s3_client = boto3.client(\"s3\")\n"
   ]
  },
  {
   "cell_type": "code",
   "execution_count": 3,
   "metadata": {},
   "outputs": [],
   "source": [
    "# Base de datos en Glue\n",
    "DATABASE = \"econ\"\n",
    "S3_BUCKET = \"itam-analytics-sofia\"\n",
    "QUERY_RESULTS = f\"{S3_BUCKET}/query-results/\"\n"
   ]
  },
  {
   "cell_type": "code",
   "execution_count": 4,
   "metadata": {},
   "outputs": [
    {
     "name": "stdout",
     "output_type": "stream",
     "text": [
      "✅ Base de datos creada en Glue: econ\n"
     ]
    }
   ],
   "source": [
    "create_db_query = f\"CREATE DATABASE IF NOT EXISTS {DATABASE};\"\n",
    "\n",
    "athena_client.start_query_execution(\n",
    "    QueryString=create_db_query,\n",
    "    ResultConfiguration={\"OutputLocation\": f\"s3://{QUERY_RESULTS}\"}\n",
    ")\n",
    "print(\"✅ Base de datos creada en Glue: econ\")\n"
   ]
  },
  {
   "cell_type": "code",
   "execution_count": 5,
   "metadata": {},
   "outputs": [],
   "source": [
    "queries = [\n",
    "    f\"\"\"\n",
    "    CREATE EXTERNAL TABLE IF NOT EXISTS {DATABASE}.tipo_de_cambio (\n",
    "        date STRING,\n",
    "        tipo_de_cambio DOUBLE\n",
    "    )\n",
    "    ROW FORMAT SERDE 'org.apache.hadoop.hive.serde2.OpenCSVSerde'\n",
    "    WITH SERDEPROPERTIES (\"skip.header.line.count\" = \"1\")\n",
    "    STORED AS TEXTFILE\n",
    "    LOCATION 's3://{S3_BUCKET}/raw/tipo_de_cambio/';\n",
    "    \"\"\",\n",
    "    f\"\"\"\n",
    "    CREATE EXTERNAL TABLE IF NOT EXISTS {DATABASE}.tasa_de_interes (\n",
    "        date STRING,\n",
    "        tasa_de_interes DOUBLE\n",
    "    )\n",
    "    ROW FORMAT SERDE 'org.apache.hadoop.hive.serde2.OpenCSVSerde'\n",
    "    WITH SERDEPROPERTIES (\"skip.header.line.count\" = \"1\")\n",
    "    STORED AS TEXTFILE\n",
    "    LOCATION 's3://{S3_BUCKET}/raw/tasa_de_interes/';\n",
    "    \"\"\",\n",
    "    f\"\"\"\n",
    "    CREATE EXTERNAL TABLE IF NOT EXISTS {DATABASE}.inflacion (\n",
    "        date STRING,\n",
    "        inpc DOUBLE,\n",
    "        inflacion DOUBLE\n",
    "    )\n",
    "    ROW FORMAT SERDE 'org.apache.hadoop.hive.serde2.OpenCSVSerde'\n",
    "    WITH SERDEPROPERTIES (\"skip.header.line.count\" = \"1\")\n",
    "    STORED AS TEXTFILE\n",
    "    LOCATION 's3://{S3_BUCKET}/raw/inflacion/';\n",
    "    \"\"\"\n",
    "]\n"
   ]
  },
  {
   "cell_type": "code",
   "execution_count": 6,
   "metadata": {},
   "outputs": [
    {
     "name": "stdout",
     "output_type": "stream",
     "text": [
      "Ejecutando query...\n",
      "Query Execution ID: 834d2e59-dc21-4a1e-ae66-230dce295dbb\n",
      "Ejecutando query...\n",
      "Query Execution ID: d49ab178-2832-4cf1-b7e8-7bf082177ed5\n",
      "Ejecutando query...\n",
      "Query Execution ID: 610efb77-b7fc-400a-a2d3-65bbfb89b5a6\n",
      "✅ Tablas creadas en Athena.\n"
     ]
    }
   ],
   "source": [
    "def ejecutar_query(query):\n",
    "    response = athena_client.start_query_execution(\n",
    "        QueryString=query,\n",
    "        QueryExecutionContext={\"Database\": DATABASE},\n",
    "        ResultConfiguration={\"OutputLocation\": f\"s3://{QUERY_RESULTS}\"}\n",
    "    )\n",
    "    return response\n",
    "\n",
    "# Crear tablas en Athena\n",
    "for query in queries:\n",
    "    print(\"Ejecutando query...\")\n",
    "    response = ejecutar_query(query)\n",
    "    query_id = response['QueryExecutionId']\n",
    "    print(f\"Query Execution ID: {query_id}\")\n",
    "    time.sleep(5)  # Pausa para evitar conflictos\n",
    "\n",
    "print(\"✅ Tablas creadas en Athena.\")\n"
   ]
  },
  {
   "cell_type": "code",
   "execution_count": 7,
   "metadata": {},
   "outputs": [
    {
     "name": "stdout",
     "output_type": "stream",
     "text": [
      "Query Execution ID para economy: 2133639d-14c1-4900-b69c-9310e5885a9c\n",
      "✅ Tabla economy creada en Athena.\n"
     ]
    }
   ],
   "source": [
    "create_economy_table = f\"\"\"\n",
    "CREATE TABLE IF NOT EXISTS {DATABASE}.economy AS\n",
    "SELECT \n",
    "    t.date,\n",
    "    t.tasa_de_interes,\n",
    "    i.inflacion,\n",
    "    c.tipo_de_cambio\n",
    "FROM {DATABASE}.tasa_de_interes t\n",
    "JOIN {DATABASE}.inflacion i ON t.date = i.date\n",
    "JOIN {DATABASE}.tipo_de_cambio c ON t.date = c.date;\n",
    "\"\"\"\n",
    "\n",
    "economy_response = ejecutar_query(create_economy_table)\n",
    "print(f\"Query Execution ID para economy: {economy_response['QueryExecutionId']}\")\n",
    "print(\"✅ Tabla economy creada en Athena.\")\n"
   ]
  },
  {
   "cell_type": "code",
   "execution_count": 8,
   "metadata": {},
   "outputs": [
    {
     "name": "stdout",
     "output_type": "stream",
     "text": [
      "Descargando resultados de Query ID: 042d5d74-5d13-45d0-9403-84964b305d1c\n",
      "         date  tasa_de_interes  inflacion  tipo_de_cambio\n",
      "0  2016-01-01             3.08   2.613104       18.072775\n",
      "1  2016-02-01             3.36   2.867251       18.473100\n",
      "2  2016-03-01             3.80   2.601010       17.649045\n",
      "3  2016-04-01             3.74   2.541579       17.487676\n",
      "4  2016-05-01             3.81   2.596663       18.154186\n"
     ]
    }
   ],
   "source": [
    "def descargar_datos():\n",
    "    query = f\"SELECT * FROM {DATABASE}.economy\"\n",
    "    response = ejecutar_query(query)\n",
    "    query_id = response['QueryExecutionId']\n",
    "    print(f\"Descargando resultados de Query ID: {query_id}\")\n",
    "    \n",
    "    # Esperar a que la consulta termine\n",
    "    time.sleep(10)\n",
    "    \n",
    "    # Descargar el archivo desde S3\n",
    "    result_file = f\"query-results/{query_id}.csv\"\n",
    "    response = s3_client.get_object(Bucket=S3_BUCKET, Key=result_file)\n",
    "    file_content = response[\"Body\"].read().decode(\"utf-8\")\n",
    "    \n",
    "    # Leer el contenido en un DataFrame\n",
    "    df = pd.read_csv(StringIO(file_content))\n",
    "    return df\n",
    "\n",
    "# Descargar y mostrar los datos\n",
    "df_economy = descargar_datos()\n",
    "print(df_economy.head())\n"
   ]
  }
 ],
 "metadata": {
  "kernelspec": {
   "display_name": "arquitectura",
   "language": "python",
   "name": "python3"
  },
  "language_info": {
   "codemirror_mode": {
    "name": "ipython",
    "version": 3
   },
   "file_extension": ".py",
   "mimetype": "text/x-python",
   "name": "python",
   "nbconvert_exporter": "python",
   "pygments_lexer": "ipython3",
   "version": "3.11.11"
  }
 },
 "nbformat": 4,
 "nbformat_minor": 2
}
