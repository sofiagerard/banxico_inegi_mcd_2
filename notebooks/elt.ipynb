{
 "cells": [
  {
   "cell_type": "markdown",
   "metadata": {},
   "source": [
    "## ELT "
   ]
  },
  {
   "cell_type": "code",
   "execution_count": 22,
   "metadata": {},
   "outputs": [],
   "source": [
    "import os\n",
    "import requests\n",
    "import pandas as pd\n",
    "from dotenv import load_dotenv\n",
    "import boto3\n",
    "import json\n",
    "import time\n",
    "from io import StringIO\n",
    "import streamlit as st\n",
    "import statsmodels.api as sm\n",
    "import matplotlib.pyplot as plt\n",
    "import seaborn as sns\n",
    "from sklearn.linear_model import LinearRegression\n",
    "from sklearn.metrics import r2_score\n",
    "\n"
   ]
  },
  {
   "cell_type": "code",
   "execution_count": 2,
   "metadata": {},
   "outputs": [],
   "source": [
    "# Configurar cliente de Athena y S3\n",
    "athena_client = boto3.client(\"athena\")\n",
    "s3_client = boto3.client(\"s3\")\n"
   ]
  },
  {
   "cell_type": "code",
   "execution_count": 3,
   "metadata": {},
   "outputs": [],
   "source": [
    "# Base de datos en Glue\n",
    "DATABASE = \"econ\"\n",
    "S3_BUCKET = \"itam-analytics-sofia\"\n",
    "QUERY_RESULTS = f\"{S3_BUCKET}/query-results/\"\n"
   ]
  },
  {
   "cell_type": "code",
   "execution_count": 4,
   "metadata": {},
   "outputs": [
    {
     "name": "stdout",
     "output_type": "stream",
     "text": [
      "✅ Base de datos creada en Glue: econ\n"
     ]
    }
   ],
   "source": [
    "create_db_query = f\"CREATE DATABASE IF NOT EXISTS {DATABASE};\"\n",
    "\n",
    "athena_client.start_query_execution(\n",
    "    QueryString=create_db_query,\n",
    "    ResultConfiguration={\"OutputLocation\": f\"s3://{QUERY_RESULTS}\"}\n",
    ")\n",
    "print(\"✅ Base de datos creada en Glue: econ\")\n"
   ]
  },
  {
   "cell_type": "code",
   "execution_count": 5,
   "metadata": {},
   "outputs": [],
   "source": [
    "queries = [\n",
    "    f\"\"\"\n",
    "    CREATE EXTERNAL TABLE IF NOT EXISTS {DATABASE}.tipo_de_cambio (\n",
    "        date STRING,\n",
    "        tipo_de_cambio DOUBLE\n",
    "    )\n",
    "    ROW FORMAT SERDE 'org.apache.hadoop.hive.serde2.OpenCSVSerde'\n",
    "    WITH SERDEPROPERTIES (\"skip.header.line.count\" = \"1\")\n",
    "    STORED AS TEXTFILE\n",
    "    LOCATION 's3://{S3_BUCKET}/raw/tipo_de_cambio/';\n",
    "    \"\"\",\n",
    "    f\"\"\"\n",
    "    CREATE EXTERNAL TABLE IF NOT EXISTS {DATABASE}.tasa_de_interes (\n",
    "        date STRING,\n",
    "        tasa_de_interes DOUBLE\n",
    "    )\n",
    "    ROW FORMAT SERDE 'org.apache.hadoop.hive.serde2.OpenCSVSerde'\n",
    "    WITH SERDEPROPERTIES (\"skip.header.line.count\" = \"1\")\n",
    "    STORED AS TEXTFILE\n",
    "    LOCATION 's3://{S3_BUCKET}/raw/tasa_de_interes/';\n",
    "    \"\"\",\n",
    "    f\"\"\"\n",
    "    CREATE EXTERNAL TABLE IF NOT EXISTS {DATABASE}.inflacion (\n",
    "        date STRING,\n",
    "        inpc DOUBLE,\n",
    "        inflacion DOUBLE\n",
    "    )\n",
    "    ROW FORMAT SERDE 'org.apache.hadoop.hive.serde2.OpenCSVSerde'\n",
    "    WITH SERDEPROPERTIES (\"skip.header.line.count\" = \"1\")\n",
    "    STORED AS TEXTFILE\n",
    "    LOCATION 's3://{S3_BUCKET}/raw/inflacion/';\n",
    "    \"\"\"\n",
    "]\n"
   ]
  },
  {
   "cell_type": "code",
   "execution_count": 6,
   "metadata": {},
   "outputs": [
    {
     "name": "stdout",
     "output_type": "stream",
     "text": [
      "Ejecutando query...\n",
      "Query Execution ID: 834d2e59-dc21-4a1e-ae66-230dce295dbb\n",
      "Ejecutando query...\n",
      "Query Execution ID: d49ab178-2832-4cf1-b7e8-7bf082177ed5\n",
      "Ejecutando query...\n",
      "Query Execution ID: 610efb77-b7fc-400a-a2d3-65bbfb89b5a6\n",
      "✅ Tablas creadas en Athena.\n"
     ]
    }
   ],
   "source": [
    "def ejecutar_query(query):\n",
    "    response = athena_client.start_query_execution(\n",
    "        QueryString=query,\n",
    "        QueryExecutionContext={\"Database\": DATABASE},\n",
    "        ResultConfiguration={\"OutputLocation\": f\"s3://{QUERY_RESULTS}\"}\n",
    "    )\n",
    "    return response\n",
    "\n",
    "# Crear tablas en Athena\n",
    "for query in queries:\n",
    "    print(\"Ejecutando query...\")\n",
    "    response = ejecutar_query(query)\n",
    "    query_id = response['QueryExecutionId']\n",
    "    print(f\"Query Execution ID: {query_id}\")\n",
    "    time.sleep(5)  # Pausa para evitar conflictos\n",
    "\n",
    "print(\"✅ Tablas creadas en Athena.\")\n"
   ]
  },
  {
   "cell_type": "code",
   "execution_count": 7,
   "metadata": {},
   "outputs": [
    {
     "name": "stdout",
     "output_type": "stream",
     "text": [
      "Query Execution ID para economy: 2133639d-14c1-4900-b69c-9310e5885a9c\n",
      "✅ Tabla economy creada en Athena.\n"
     ]
    }
   ],
   "source": [
    "create_economy_table = f\"\"\"\n",
    "CREATE TABLE IF NOT EXISTS {DATABASE}.economy AS\n",
    "SELECT \n",
    "    t.date,\n",
    "    t.tasa_de_interes,\n",
    "    i.inflacion,\n",
    "    c.tipo_de_cambio\n",
    "FROM {DATABASE}.tasa_de_interes t\n",
    "JOIN {DATABASE}.inflacion i ON t.date = i.date\n",
    "JOIN {DATABASE}.tipo_de_cambio c ON t.date = c.date;\n",
    "\"\"\"\n",
    "\n",
    "economy_response = ejecutar_query(create_economy_table)\n",
    "print(f\"Query Execution ID para economy: {economy_response['QueryExecutionId']}\")\n",
    "print(\"✅ Tabla economy creada en Athena.\")\n"
   ]
  },
  {
   "cell_type": "code",
   "execution_count": 8,
   "metadata": {},
   "outputs": [
    {
     "name": "stdout",
     "output_type": "stream",
     "text": [
      "Descargando resultados de Query ID: 042d5d74-5d13-45d0-9403-84964b305d1c\n",
      "         date  tasa_de_interes  inflacion  tipo_de_cambio\n",
      "0  2016-01-01             3.08   2.613104       18.072775\n",
      "1  2016-02-01             3.36   2.867251       18.473100\n",
      "2  2016-03-01             3.80   2.601010       17.649045\n",
      "3  2016-04-01             3.74   2.541579       17.487676\n",
      "4  2016-05-01             3.81   2.596663       18.154186\n"
     ]
    }
   ],
   "source": [
    "def descargar_datos():\n",
    "    query = f\"SELECT * FROM {DATABASE}.economy\"\n",
    "    response = ejecutar_query(query)\n",
    "    query_id = response['QueryExecutionId']\n",
    "    print(f\"Descargando resultados de Query ID: {query_id}\")\n",
    "    \n",
    "    # Esperar a que la consulta termine\n",
    "    time.sleep(10)\n",
    "    \n",
    "    # Descargar el archivo desde S3\n",
    "    result_file = f\"query-results/{query_id}.csv\"\n",
    "    response = s3_client.get_object(Bucket=S3_BUCKET, Key=result_file)\n",
    "    file_content = response[\"Body\"].read().decode(\"utf-8\")\n",
    "    \n",
    "    # Leer el contenido en un DataFrame\n",
    "    df = pd.read_csv(StringIO(file_content))\n",
    "    return df\n",
    "\n",
    "# Descargar y mostrar los datos\n",
    "df_economy = descargar_datos()\n",
    "print(df_economy.head())\n"
   ]
  },
  {
   "cell_type": "code",
   "execution_count": 23,
   "metadata": {},
   "outputs": [],
   "source": [
    "df_economy.to_csv(\"economy.csv\", index=False)"
   ]
  },
  {
   "cell_type": "code",
   "execution_count": null,
   "metadata": {},
   "outputs": [
    {
     "data": {
      "application/vnd.microsoft.datawrangler.viewer.v0+json": {
       "columns": [
        {
         "name": "index",
         "rawType": "int64",
         "type": "integer"
        },
        {
         "name": "date",
         "rawType": "object",
         "type": "string"
        },
        {
         "name": "tasa_de_interes",
         "rawType": "float64",
         "type": "float"
        },
        {
         "name": "inflacion",
         "rawType": "float64",
         "type": "float"
        },
        {
         "name": "tipo_de_cambio",
         "rawType": "float64",
         "type": "float"
        }
       ],
       "conversionMethod": "pd.DataFrame",
       "ref": "9f2a389b-2e3b-4bcf-8b7e-b8d863f940fb",
       "rows": [
        [
         "0",
         "2016-01-01",
         "3.08",
         "2.6131044753787025",
         "18.072775"
        ],
        [
         "1",
         "2016-02-01",
         "3.36",
         "2.86725086274906",
         "18.4731"
        ],
        [
         "2",
         "2016-03-01",
         "3.8",
         "2.601010328376052",
         "17.649045"
        ],
        [
         "3",
         "2016-04-01",
         "3.74",
         "2.5415794088680776",
         "17.48767619047619"
        ],
        [
         "4",
         "2016-05-01",
         "3.81",
         "2.5966625228134532",
         "18.154186363636367"
        ],
        [
         "5",
         "2016-06-01",
         "3.81",
         "2.5379877388831185",
         "18.65296818181818"
        ],
        [
         "6",
         "2016-07-01",
         "4.21",
         "2.6548283246306204",
         "18.601442857142857"
        ],
        [
         "7",
         "2016-08-01",
         "4.24",
         "2.727436556243279",
         "18.474865217391304"
        ],
        [
         "8",
         "2016-09-01",
         "4.28",
         "2.968949494144413",
         "19.192409523809523"
        ],
        [
         "9",
         "2016-10-01",
         "4.69",
         "3.0636223771417725",
         "18.892414285714285"
        ],
        [
         "10",
         "2016-11-01",
         "5.15",
         "3.305350996174483",
         "20.118465"
        ],
        [
         "11",
         "2016-12-01",
         "5.61",
         "3.360273917929324",
         "20.52057619047619"
        ],
        [
         "12",
         "2017-01-01",
         "5.83",
         "4.7182814124670625",
         "21.385272727272728"
        ],
        [
         "13",
         "2017-02-01",
         "6.06",
         "4.86423138482337",
         "20.29053684210526"
        ],
        [
         "14",
         "2017-03-01",
         "6.32",
         "5.352561390806798",
         "19.30102727272727"
        ],
        [
         "15",
         "2017-04-01",
         "6.5",
         "5.817170240743907",
         "18.78748333333333"
        ],
        [
         "16",
         "2017-05-01",
         "6.56",
         "6.1640135514896555",
         "18.755663636363636"
        ],
        [
         "17",
         "2017-06-01",
         "6.82",
         "6.313656164274195",
         "18.132613636363637"
        ],
        [
         "18",
         "2017-07-01",
         "6.99",
         "6.438165120339012",
         "17.828338095238095"
        ],
        [
         "19",
         "2017-08-01",
         "6.94",
         "6.663488971686271",
         "17.807030434782607"
        ],
        [
         "20",
         "2017-09-01",
         "6.99",
         "6.3478466217571805",
         "17.835652380952382"
        ],
        [
         "21",
         "2017-10-01",
         "7.03",
         "6.37153233872374",
         "18.816095454545454"
        ],
        [
         "22",
         "2017-11-01",
         "7.02",
         "6.634523083388788",
         "18.915785"
        ],
        [
         "23",
         "2017-12-01",
         "7.17",
         "6.773047979044966",
         "19.181221052631575"
        ],
        [
         "24",
         "2018-01-01",
         "7.25",
         "5.545835908281038",
         "18.90739090909091"
        ],
        [
         "25",
         "2018-02-01",
         "7.4",
         "5.3392174071042575",
         "18.644936842105263"
        ],
        [
         "26",
         "2018-03-01",
         "7.47",
         "5.035412425224606",
         "18.630842105263156"
        ],
        [
         "27",
         "2018-04-01",
         "7.46",
         "4.550783006064618",
         "18.38718571428571"
        ],
        [
         "28",
         "2018-05-01",
         "7.51",
         "4.506269635381366",
         "19.590995454545453"
        ],
        [
         "29",
         "2018-06-01",
         "7.64",
         "4.646857399091897",
         "20.3032"
        ],
        [
         "30",
         "2018-07-01",
         "7.73",
         "4.811405229193166",
         "19.009518181818184"
        ],
        [
         "31",
         "2018-08-01",
         "7.73",
         "4.904527818552884",
         "18.85750869565217"
        ],
        [
         "32",
         "2018-09-01",
         "7.69",
         "5.019573901527075",
         "19.01543"
        ],
        [
         "33",
         "2018-10-01",
         "7.69",
         "4.903635865498268",
         "19.185865217391303"
        ],
        [
         "34",
         "2018-11-01",
         "7.83",
         "4.716533899617192",
         "20.26117"
        ],
        [
         "35",
         "2018-12-01",
         "8.02",
         "4.830546184342643",
         "20.11117894736842"
        ],
        [
         "36",
         "2019-01-01",
         "7.95",
         "4.365605864282207",
         "19.1651"
        ],
        [
         "37",
         "2019-02-01",
         "7.93",
         "3.9402756478719825",
         "19.20487894736842"
        ],
        [
         "38",
         "2019-03-01",
         "8.02",
         "4.004177957654775",
         "19.24774"
        ],
        [
         "39",
         "2019-04-01",
         "7.78",
         "4.4134533855602065",
         "18.98635"
        ],
        [
         "40",
         "2019-05-01",
         "8.07",
         "4.281993245961213",
         "19.119654545454548"
        ],
        [
         "41",
         "2019-06-01",
         "8.25",
         "3.947146913412025",
         "19.27447"
        ],
        [
         "42",
         "2019-07-01",
         "8.14",
         "3.78133816574",
         "19.05339565217391"
        ],
        [
         "43",
         "2019-08-01",
         "8.01",
         "3.1624407913067643",
         "19.685040909090908"
        ],
        [
         "44",
         "2019-09-01",
         "7.72",
         "2.997512807554714",
         "19.586505"
        ],
        [
         "45",
         "2019-10-01",
         "7.66",
         "3.0195189274447864",
         "19.324182608695654"
        ],
        [
         "46",
         "2019-11-01",
         "7.47",
         "2.9744973265691144",
         "19.332475"
        ],
        [
         "47",
         "2019-12-01",
         "7.12",
         "2.828576975344599",
         "19.107085"
        ],
        [
         "48",
         "2020-01-01",
         "7.12",
         "3.2383520192419635",
         "18.804018181818183"
        ],
        [
         "49",
         "2020-02-01",
         "6.96",
         "3.696194181162027",
         "18.844321052631575"
        ]
       ],
       "shape": {
        "columns": 4,
        "rows": 110
       }
      },
      "text/html": [
       "<div>\n",
       "<style scoped>\n",
       "    .dataframe tbody tr th:only-of-type {\n",
       "        vertical-align: middle;\n",
       "    }\n",
       "\n",
       "    .dataframe tbody tr th {\n",
       "        vertical-align: top;\n",
       "    }\n",
       "\n",
       "    .dataframe thead th {\n",
       "        text-align: right;\n",
       "    }\n",
       "</style>\n",
       "<table border=\"1\" class=\"dataframe\">\n",
       "  <thead>\n",
       "    <tr style=\"text-align: right;\">\n",
       "      <th></th>\n",
       "      <th>date</th>\n",
       "      <th>tasa_de_interes</th>\n",
       "      <th>inflacion</th>\n",
       "      <th>tipo_de_cambio</th>\n",
       "    </tr>\n",
       "  </thead>\n",
       "  <tbody>\n",
       "    <tr>\n",
       "      <th>0</th>\n",
       "      <td>2016-01-01</td>\n",
       "      <td>3.08</td>\n",
       "      <td>2.613104</td>\n",
       "      <td>18.072775</td>\n",
       "    </tr>\n",
       "    <tr>\n",
       "      <th>1</th>\n",
       "      <td>2016-02-01</td>\n",
       "      <td>3.36</td>\n",
       "      <td>2.867251</td>\n",
       "      <td>18.473100</td>\n",
       "    </tr>\n",
       "    <tr>\n",
       "      <th>2</th>\n",
       "      <td>2016-03-01</td>\n",
       "      <td>3.80</td>\n",
       "      <td>2.601010</td>\n",
       "      <td>17.649045</td>\n",
       "    </tr>\n",
       "    <tr>\n",
       "      <th>3</th>\n",
       "      <td>2016-04-01</td>\n",
       "      <td>3.74</td>\n",
       "      <td>2.541579</td>\n",
       "      <td>17.487676</td>\n",
       "    </tr>\n",
       "    <tr>\n",
       "      <th>4</th>\n",
       "      <td>2016-05-01</td>\n",
       "      <td>3.81</td>\n",
       "      <td>2.596663</td>\n",
       "      <td>18.154186</td>\n",
       "    </tr>\n",
       "    <tr>\n",
       "      <th>...</th>\n",
       "      <td>...</td>\n",
       "      <td>...</td>\n",
       "      <td>...</td>\n",
       "      <td>...</td>\n",
       "    </tr>\n",
       "    <tr>\n",
       "      <th>105</th>\n",
       "      <td>2024-10-01</td>\n",
       "      <td>10.24</td>\n",
       "      <td>4.761540</td>\n",
       "      <td>19.706182</td>\n",
       "    </tr>\n",
       "    <tr>\n",
       "      <th>106</th>\n",
       "      <td>2024-11-01</td>\n",
       "      <td>10.05</td>\n",
       "      <td>4.548671</td>\n",
       "      <td>20.345490</td>\n",
       "    </tr>\n",
       "    <tr>\n",
       "      <th>107</th>\n",
       "      <td>2024-12-01</td>\n",
       "      <td>9.85</td>\n",
       "      <td>4.212339</td>\n",
       "      <td>20.266055</td>\n",
       "    </tr>\n",
       "    <tr>\n",
       "      <th>108</th>\n",
       "      <td>2025-01-01</td>\n",
       "      <td>9.86</td>\n",
       "      <td>3.585040</td>\n",
       "      <td>20.549018</td>\n",
       "    </tr>\n",
       "    <tr>\n",
       "      <th>109</th>\n",
       "      <td>2025-02-01</td>\n",
       "      <td>9.45</td>\n",
       "      <td>3.773910</td>\n",
       "      <td>20.457137</td>\n",
       "    </tr>\n",
       "  </tbody>\n",
       "</table>\n",
       "<p>110 rows × 4 columns</p>\n",
       "</div>"
      ],
      "text/plain": [
       "           date  tasa_de_interes  inflacion  tipo_de_cambio\n",
       "0    2016-01-01             3.08   2.613104       18.072775\n",
       "1    2016-02-01             3.36   2.867251       18.473100\n",
       "2    2016-03-01             3.80   2.601010       17.649045\n",
       "3    2016-04-01             3.74   2.541579       17.487676\n",
       "4    2016-05-01             3.81   2.596663       18.154186\n",
       "..          ...              ...        ...             ...\n",
       "105  2024-10-01            10.24   4.761540       19.706182\n",
       "106  2024-11-01            10.05   4.548671       20.345490\n",
       "107  2024-12-01             9.85   4.212339       20.266055\n",
       "108  2025-01-01             9.86   3.585040       20.549018\n",
       "109  2025-02-01             9.45   3.773910       20.457137\n",
       "\n",
       "[110 rows x 4 columns]"
      ]
     },
     "execution_count": 9,
     "metadata": {},
     "output_type": "execute_result"
    }
   ],
   "source": [
    "df_economy"
   ]
  },
  {
   "cell_type": "markdown",
   "metadata": {},
   "source": [
    "---"
   ]
  },
  {
   "cell_type": "markdown",
   "metadata": {},
   "source": [
    "## Regressions and Streamlit "
   ]
  },
  {
   "cell_type": "code",
   "execution_count": 25,
   "metadata": {},
   "outputs": [
    {
     "name": "stderr",
     "output_type": "stream",
     "text": [
      "2025-03-19 16:04:42.384 No runtime found, using MemoryCacheStorageManager\n",
      "2025-03-19 16:04:42.478 Thread 'MainThread': missing ScriptRunContext! This warning can be ignored when running in bare mode.\n",
      "2025-03-19 16:04:42.483 Thread 'MainThread': missing ScriptRunContext! This warning can be ignored when running in bare mode.\n",
      "2025-03-19 16:04:42.486 Thread 'MainThread': missing ScriptRunContext! This warning can be ignored when running in bare mode.\n",
      "2025-03-19 16:04:42.489 Thread 'MainThread': missing ScriptRunContext! This warning can be ignored when running in bare mode.\n",
      "2025-03-19 16:04:42.515 Thread 'MainThread': missing ScriptRunContext! This warning can be ignored when running in bare mode.\n",
      "2025-03-19 16:04:42.516 Thread 'MainThread': missing ScriptRunContext! This warning can be ignored when running in bare mode.\n",
      "2025-03-19 16:04:42.517 Thread 'MainThread': missing ScriptRunContext! This warning can be ignored when running in bare mode.\n",
      "2025-03-19 16:04:42.517 Thread 'MainThread': missing ScriptRunContext! This warning can be ignored when running in bare mode.\n",
      "2025-03-19 16:04:42.517 Thread 'MainThread': missing ScriptRunContext! This warning can be ignored when running in bare mode.\n",
      "2025-03-19 16:04:42.518 Thread 'MainThread': missing ScriptRunContext! This warning can be ignored when running in bare mode.\n",
      "2025-03-19 16:04:42.519 Thread 'MainThread': missing ScriptRunContext! This warning can be ignored when running in bare mode.\n",
      "2025-03-19 16:04:42.520 Thread 'MainThread': missing ScriptRunContext! This warning can be ignored when running in bare mode.\n",
      "2025-03-19 16:04:42.521 Thread 'MainThread': missing ScriptRunContext! This warning can be ignored when running in bare mode.\n",
      "2025-03-19 16:04:42.521 Thread 'MainThread': missing ScriptRunContext! This warning can be ignored when running in bare mode.\n",
      "2025-03-19 16:04:42.522 Thread 'MainThread': missing ScriptRunContext! This warning can be ignored when running in bare mode.\n",
      "2025-03-19 16:04:42.522 Thread 'MainThread': missing ScriptRunContext! This warning can be ignored when running in bare mode.\n",
      "2025-03-19 16:04:42.580 Thread 'MainThread': missing ScriptRunContext! This warning can be ignored when running in bare mode.\n",
      "2025-03-19 16:04:42.718 Thread 'MainThread': missing ScriptRunContext! This warning can be ignored when running in bare mode.\n",
      "2025-03-19 16:04:42.719 Thread 'MainThread': missing ScriptRunContext! This warning can be ignored when running in bare mode.\n",
      "2025-03-19 16:04:42.719 Thread 'MainThread': missing ScriptRunContext! This warning can be ignored when running in bare mode.\n",
      "2025-03-19 16:04:42.719 Thread 'MainThread': missing ScriptRunContext! This warning can be ignored when running in bare mode.\n",
      "2025-03-19 16:04:42.721 Thread 'MainThread': missing ScriptRunContext! This warning can be ignored when running in bare mode.\n",
      "2025-03-19 16:04:42.722 Thread 'MainThread': missing ScriptRunContext! This warning can be ignored when running in bare mode.\n",
      "2025-03-19 16:04:42.722 Thread 'MainThread': missing ScriptRunContext! This warning can be ignored when running in bare mode.\n",
      "2025-03-19 16:04:42.723 Thread 'MainThread': missing ScriptRunContext! This warning can be ignored when running in bare mode.\n",
      "2025-03-19 16:04:42.723 Thread 'MainThread': missing ScriptRunContext! This warning can be ignored when running in bare mode.\n",
      "2025-03-19 16:04:42.723 Thread 'MainThread': missing ScriptRunContext! This warning can be ignored when running in bare mode.\n",
      "2025-03-19 16:04:42.724 Thread 'MainThread': missing ScriptRunContext! This warning can be ignored when running in bare mode.\n",
      "2025-03-19 16:04:42.724 Thread 'MainThread': missing ScriptRunContext! This warning can be ignored when running in bare mode.\n",
      "2025-03-19 16:04:42.725 Thread 'MainThread': missing ScriptRunContext! This warning can be ignored when running in bare mode.\n",
      "2025-03-19 16:04:42.725 Thread 'MainThread': missing ScriptRunContext! This warning can be ignored when running in bare mode.\n",
      "2025-03-19 16:04:42.726 Thread 'MainThread': missing ScriptRunContext! This warning can be ignored when running in bare mode.\n",
      "2025-03-19 16:04:42.726 Thread 'MainThread': missing ScriptRunContext! This warning can be ignored when running in bare mode.\n",
      "2025-03-19 16:04:42.749 Thread 'MainThread': missing ScriptRunContext! This warning can be ignored when running in bare mode.\n",
      "2025-03-19 16:04:42.873 Thread 'MainThread': missing ScriptRunContext! This warning can be ignored when running in bare mode.\n",
      "2025-03-19 16:04:42.873 Thread 'MainThread': missing ScriptRunContext! This warning can be ignored when running in bare mode.\n",
      "2025-03-19 16:04:42.874 Thread 'MainThread': missing ScriptRunContext! This warning can be ignored when running in bare mode.\n",
      "2025-03-19 16:04:42.874 Thread 'MainThread': missing ScriptRunContext! This warning can be ignored when running in bare mode.\n",
      "2025-03-19 16:04:42.876 Thread 'MainThread': missing ScriptRunContext! This warning can be ignored when running in bare mode.\n",
      "2025-03-19 16:04:42.877 Thread 'MainThread': missing ScriptRunContext! This warning can be ignored when running in bare mode.\n",
      "2025-03-19 16:04:42.877 Thread 'MainThread': missing ScriptRunContext! This warning can be ignored when running in bare mode.\n",
      "2025-03-19 16:04:42.878 Thread 'MainThread': missing ScriptRunContext! This warning can be ignored when running in bare mode.\n",
      "2025-03-19 16:04:42.878 Thread 'MainThread': missing ScriptRunContext! This warning can be ignored when running in bare mode.\n",
      "2025-03-19 16:04:42.879 Thread 'MainThread': missing ScriptRunContext! This warning can be ignored when running in bare mode.\n",
      "2025-03-19 16:04:42.879 Thread 'MainThread': missing ScriptRunContext! This warning can be ignored when running in bare mode.\n",
      "2025-03-19 16:04:42.880 Thread 'MainThread': missing ScriptRunContext! This warning can be ignored when running in bare mode.\n",
      "2025-03-19 16:04:42.880 Thread 'MainThread': missing ScriptRunContext! This warning can be ignored when running in bare mode.\n",
      "2025-03-19 16:04:42.881 Thread 'MainThread': missing ScriptRunContext! This warning can be ignored when running in bare mode.\n",
      "2025-03-19 16:04:42.881 Thread 'MainThread': missing ScriptRunContext! This warning can be ignored when running in bare mode.\n",
      "2025-03-19 16:04:42.881 Thread 'MainThread': missing ScriptRunContext! This warning can be ignored when running in bare mode.\n",
      "2025-03-19 16:04:42.945 Thread 'MainThread': missing ScriptRunContext! This warning can be ignored when running in bare mode.\n",
      "2025-03-19 16:04:43.067 Thread 'MainThread': missing ScriptRunContext! This warning can be ignored when running in bare mode.\n",
      "2025-03-19 16:04:43.067 Thread 'MainThread': missing ScriptRunContext! This warning can be ignored when running in bare mode.\n"
     ]
    }
   ],
   "source": [
    "# Cargar datos\n",
    "@st.cache_data\n",
    "def load_data():\n",
    "    df = pd.read_csv(\"economy.csv\")  \n",
    "    return df\n",
    "\n",
    "df = load_data()\n",
    "\n",
    "# Función para hacer regresión lineal con sklearn\n",
    "def linear_regression_sklearn(x, y, df):\n",
    "    X = df[x].values.reshape(-1,1)  # Convertir a matriz 2D\n",
    "    Y = df[y].values.reshape(-1, 1)  # Convertir a matriz 2D\n",
    "    model = LinearRegression()\n",
    "    model.fit(X, Y)\n",
    "    y_pred = model.predict(X)\n",
    "    \n",
    "    r2 = r2_score(Y, y_pred) \n",
    "    \n",
    "    return model, y_pred, r2\n",
    "\n",
    "# Definir pares de variables\n",
    "regressions = {\n",
    "    \"tipo_de_cambio ~ tasa_de_interes\": (\"tasa_de_interes\", \"tipo_de_cambio\"),\n",
    "    \"tasa_de_interes ~ inflacion\": (\"inflacion\", \"tasa_de_interes\"),\n",
    "    \"tipo_de_cambio ~ inflacion\": (\"inflacion\", \"tipo_de_cambio\")\n",
    "}\n",
    "\n",
    "# Crear layout en Streamlit\n",
    "st.title(\"Regresiones Lineales con Scikit-Learn\")\n",
    "\n",
    "for title, (x, y) in regressions.items():\n",
    "    st.subheader(title)\n",
    "    \n",
    "    # Obtener modelo, predicciones y R^2\n",
    "    model, y_pred, r2 = linear_regression_sklearn(x, y, df)\n",
    "    \n",
    "    # Mostrar coeficientes\n",
    "    st.write(f\"Coeficiente: {model.coef_[0][0]:.4f}\")\n",
    "    st.write(f\"Intercepto: {model.intercept_[0]:.4f}\")\n",
    "    st.write(f\"R² Score: {r2:.4f}\")\n",
    "    \n",
    "    # Graficar scatter plot con la línea de regresión\n",
    "    fig, ax = plt.subplots()\n",
    "    sns.scatterplot(x=df[x], y=df[y], ax=ax, alpha=0.5, label=\"Datos Reales\")\n",
    "    ax.plot(df[x], y_pred, color=\"red\", label=\"Regresión Lineal\")\n",
    "    ax.set_xlabel(x)\n",
    "    ax.set_ylabel(y)\n",
    "    ax.set_title(title)\n",
    "    ax.legend()\n",
    "    st.pyplot(fig)\n"
   ]
  }
 ],
 "metadata": {
  "kernelspec": {
   "display_name": "arquitectura",
   "language": "python",
   "name": "python3"
  },
  "language_info": {
   "codemirror_mode": {
    "name": "ipython",
    "version": 3
   },
   "file_extension": ".py",
   "mimetype": "text/x-python",
   "name": "python",
   "nbconvert_exporter": "python",
   "pygments_lexer": "ipython3",
   "version": "3.11.11"
  }
 },
 "nbformat": 4,
 "nbformat_minor": 2
}
